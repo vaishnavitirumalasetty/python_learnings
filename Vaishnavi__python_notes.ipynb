{
  "nbformat": 4,
  "nbformat_minor": 0,
  "metadata": {
    "colab": {
      "provenance": [],
      "authorship_tag": "ABX9TyOhy3rPViCWPtdeGvfmfg5+",
      "include_colab_link": true
    },
    "kernelspec": {
      "name": "python3",
      "display_name": "Python 3"
    },
    "language_info": {
      "name": "python"
    }
  },
  "cells": [
    {
      "cell_type": "markdown",
      "metadata": {
        "id": "view-in-github",
        "colab_type": "text"
      },
      "source": [
        "<a href=\"https://colab.research.google.com/github/vaishnavitirumalasetty/python_learnings/blob/main/Vaishnavi__python_notes.ipynb\" target=\"_parent\"><img src=\"https://colab.research.google.com/assets/colab-badge.svg\" alt=\"Open In Colab\"/></a>"
      ]
    },
    {
      "cell_type": "markdown",
      "source": [
        "#Basics of python"
      ],
      "metadata": {
        "id": "D9srhd9LDeJ3"
      }
    },
    {
      "cell_type": "code",
      "execution_count": null,
      "metadata": {
        "id": "ZAa5LK8EC6Pz",
        "colab": {
          "base_uri": "https://localhost:8080/",
          "height": 53
        },
        "outputId": "05877c68-68d6-4312-a098-fb3962ba4416"
      },
      "outputs": [
        {
          "output_type": "execute_result",
          "data": {
            "text/plain": [
              "'1.Python is general purpose programming language\\n   2.high level prog language\\n   3.object oriented prog lang\\n   4.Dynamically typed programming lang\\n   5.interpretted programming lang.'"
            ],
            "application/vnd.google.colaboratory.intrinsic+json": {
              "type": "string"
            }
          },
          "metadata": {},
          "execution_count": 1
        }
      ],
      "source": [
        "#what is python?\n",
        "'''1.Python is general purpose programming language\n",
        "   2.high level prog language\n",
        "   3.object oriented prog lang\n",
        "   4.Dynamically typed programming lang\n",
        "   5.interpretted programming lang.'''\n",
        "#why we required comments?\n",
        "#for the better understanding purpose"
      ]
    },
    {
      "cell_type": "code",
      "source": [
        "#what is statistically typed programming language?\n",
        "'''in statistically typed programming language we need to define  data type for variables.\n",
        "   ex-java,c++.'''"
      ],
      "metadata": {
        "id": "HT96MiTyE3mB"
      },
      "execution_count": null,
      "outputs": []
    },
    {
      "cell_type": "code",
      "source": [
        "#what is low-level prog lang?\n",
        "'''1.low-level prog lang are manchine friendly languages\n",
        "   2.In this the code is changing to binary form fro:-[0101001]\n",
        "   3.More lines of code\n",
        "   4.c, c++'''"
      ],
      "metadata": {
        "id": "gVGAj6JnE-Zw"
      },
      "execution_count": null,
      "outputs": []
    },
    {
      "cell_type": "code",
      "source": [
        "#what is high level programming lang?\n",
        "'''1.human friendly lang\n",
        "   2. the codes are not changing into binary form.\n",
        "   3.low lines of codes=s\n",
        "   4.it is like an english language.'''"
      ],
      "metadata": {
        "id": "SshGXV6aGFU6"
      },
      "execution_count": null,
      "outputs": []
    },
    {
      "cell_type": "code",
      "source": [
        "#print \"hello world\" in python?\n",
        "# i am using \"print()\" to display my output\n",
        "print(\"hello world!\")"
      ],
      "metadata": {
        "colab": {
          "base_uri": "https://localhost:8080/"
        },
        "id": "FMy1lPO5G5OQ",
        "outputId": "81c7f5c1-66d1-4552-a033-d1a2fac8815c"
      },
      "execution_count": null,
      "outputs": [
        {
          "output_type": "stream",
          "name": "stdout",
          "text": [
            "hello world!\n"
          ]
        }
      ]
    },
    {
      "cell_type": "markdown",
      "source": [
        "#Numerical Data Types"
      ],
      "metadata": {
        "id": "vL4p3PwCHwBT"
      }
    },
    {
      "cell_type": "code",
      "source": [
        "#what are all numerical data types?\n",
        "#There are 3 types on numerical data types.\n",
        "#1.Integer:-A whole number either +ve or -ve without decimal point.\n",
        "print(10)\n",
        "print(5)\n",
        "print(-10)\n",
        "#find the data types of above integers?\n",
        "#i am using \"types()\" to find the data type\n",
        "print(type(10))\n",
        "print(type(5))\n",
        "print(type(-1))"
      ],
      "metadata": {
        "colab": {
          "base_uri": "https://localhost:8080/"
        },
        "id": "346LtmW6H1Nu",
        "outputId": "8d5816ad-d3fa-41f4-d341-60142c0c68d7"
      },
      "execution_count": null,
      "outputs": [
        {
          "output_type": "stream",
          "name": "stdout",
          "text": [
            "10\n",
            "5\n",
            "-10\n",
            "<class 'int'>\n",
            "<class 'int'>\n",
            "<class 'int'>\n"
          ]
        }
      ]
    },
    {
      "cell_type": "code",
      "source": [
        "#2.float:- A whole number either +ve or -ve with decimal point\n",
        "print(2.0)\n",
        "print(5.36)\n",
        "#print type of above integer?\n",
        "print(type(2.0))\n",
        "print(type(-2.73))"
      ],
      "metadata": {
        "colab": {
          "base_uri": "https://localhost:8080/"
        },
        "id": "SBt3EcrDJLkh",
        "outputId": "4c502034-1ee8-4640-ca97-0efb02df26cd"
      },
      "execution_count": null,
      "outputs": [
        {
          "output_type": "stream",
          "name": "stdout",
          "text": [
            "2.0\n",
            "5.36\n",
            "<class 'float'>\n",
            "<class 'float'>\n"
          ]
        }
      ]
    },
    {
      "cell_type": "code",
      "source": [
        "#complex number:-A real number with its imaginary part is know as complex number\n",
        "print(2+4j)\n",
        "print(type(2+4j))\n",
        "#what is \"j\"?\n",
        "#j----------->iota----->value of \"j\" is root (-1)\n"
      ],
      "metadata": {
        "colab": {
          "base_uri": "https://localhost:8080/"
        },
        "id": "fclw0vCzKFsB",
        "outputId": "7c42cbc8-603b-4508-8e82-f16f49a9a10d"
      },
      "execution_count": null,
      "outputs": [
        {
          "output_type": "stream",
          "name": "stdout",
          "text": [
            "(2+4j)\n",
            "<class 'complex'>\n"
          ]
        }
      ]
    },
    {
      "cell_type": "markdown",
      "source": [
        "#arithmetic operators"
      ],
      "metadata": {
        "id": "QsVi_KyuNXK8"
      }
    },
    {
      "cell_type": "code",
      "source": [
        "#there are 7 arithmetic operators\n",
        "#1.addition-------> +\n",
        "print(10 + 2)\n",
        "\n",
        "#2.sub ---------> -\n",
        "print(10 - 2)\n",
        "#3. mult---------->*\n",
        "print(10 * 2)\n",
        "#4. division ------> /\n",
        "#Why we are getting default data type  for divison is float?\n",
        "#when your doing  division sometimes if you want extract,exact co-efficient you may get decimal values instead defining the data type we are getting float data type.\n",
        "print(10 / 2)\n",
        "#modulus--------> %------> reaminder of the divison.\n",
        "print(10 % 2)\n",
        "print(type(10%2))\n",
        "#exponential------------> **-------->to the power off-----<\n",
        "print(2 ** 3)\n",
        "print(10 ** 2)\n",
        "print(type(10 ** 2))\n",
        "#Floor Division ----->//------>it's a type of division where it igoners all the values after decimal in co-efficient\n",
        "print(10/3)\n",
        "print(10//3)\n",
        "print(type(10//3))\n",
        "\n",
        "\n"
      ],
      "metadata": {
        "colab": {
          "base_uri": "https://localhost:8080/"
        },
        "id": "jXxjdbZtNQcj",
        "outputId": "5fe39a0f-f5fe-4499-80b2-6c2e981bfa70"
      },
      "execution_count": null,
      "outputs": [
        {
          "output_type": "stream",
          "name": "stdout",
          "text": [
            "12\n",
            "8\n",
            "20\n",
            "5.0\n",
            "0\n",
            "<class 'int'>\n",
            "8\n",
            "100\n",
            "<class 'int'>\n",
            "3.3333333333333335\n",
            "3\n",
            "<class 'int'>\n"
          ]
        }
      ]
    },
    {
      "cell_type": "markdown",
      "source": [
        "#Round()"
      ],
      "metadata": {
        "id": "uK5KuC61SFgk"
      }
    },
    {
      "cell_type": "code",
      "source": [
        "#what is round()?\n",
        "#Rounding to the nearest values\n",
        "print(round(10.234))\n",
        "#when the values are below 0.5 then it will give the base value\n",
        "print(round(2.543))\n"
      ],
      "metadata": {
        "colab": {
          "base_uri": "https://localhost:8080/"
        },
        "id": "9sV2RNbLSJ4k",
        "outputId": "ff74d628-a8cf-42b0-cd34-ba792cad064f"
      },
      "execution_count": null,
      "outputs": [
        {
          "output_type": "stream",
          "name": "stdout",
          "text": [
            "10\n",
            "3\n"
          ]
        }
      ]
    },
    {
      "cell_type": "code",
      "source": [
        "#print specific decimal \"n digits\" from the value 2.53476\n",
        "#expected output--->2.53\n",
        "#use round()--------> round(number,ndigits)\n",
        "print(round(2.53476,2))"
      ],
      "metadata": {
        "colab": {
          "base_uri": "https://localhost:8080/"
        },
        "id": "J1AAgpNSTLXl",
        "outputId": "19a825d8-1573-4ec3-e4ad-813d033a8057"
      },
      "execution_count": null,
      "outputs": [
        {
          "output_type": "stream",
          "name": "stdout",
          "text": [
            "2.53\n"
          ]
        }
      ]
    },
    {
      "cell_type": "code",
      "source": [
        "#what is floor value and what is ceiling values?\n",
        "#floor value---> these are  the values before the decimal numbers\n",
        "#ceiling value-> these are the upcoming values or nearest values\n",
        "\n"
      ],
      "metadata": {
        "id": "KodqDrPUUHER"
      },
      "execution_count": null,
      "outputs": []
    },
    {
      "cell_type": "code",
      "source": [
        "#types of errors\n",
        "#variables.\n",
        "#input()\n",
        "#escape characters."
      ],
      "metadata": {
        "id": "kouu8nHrUmth"
      },
      "execution_count": null,
      "outputs": []
    },
    {
      "cell_type": "markdown",
      "source": [
        "#Types of errors"
      ],
      "metadata": {
        "id": "pw34U1usNQ3Q"
      }
    },
    {
      "cell_type": "code",
      "source": [
        "'''types of error\n",
        "1.syntax error\n",
        "2.logical error'''\n"
      ],
      "metadata": {
        "id": "mzK0uWm_NULO"
      },
      "execution_count": null,
      "outputs": []
    },
    {
      "cell_type": "code",
      "source": [
        "#1,syntax error:-Breaking the rules of the programming language can rise the syntax error\n",
        "#print(2* *3) error\n",
        "print(2**3)"
      ],
      "metadata": {
        "colab": {
          "base_uri": "https://localhost:8080/"
        },
        "id": "VthW316bOKIO",
        "outputId": "b3845820-7e48-4fbc-8a32-8ba0f04efad3"
      },
      "execution_count": null,
      "outputs": [
        {
          "output_type": "stream",
          "name": "stdout",
          "text": [
            "8\n"
          ]
        }
      ]
    },
    {
      "cell_type": "code",
      "source": [
        "#logcical error-except syntax error all the errors comes under logical error\n",
        "#ex- name error ,recusive error,attribute error, indentation error,\n",
        "#ex \"\"\"\"      ''''"
      ],
      "metadata": {
        "id": "wWSTmxX9PEF7"
      },
      "execution_count": null,
      "outputs": []
    },
    {
      "cell_type": "markdown",
      "source": [
        "#variables"
      ],
      "metadata": {
        "id": "L81huUQKP4Lm"
      }
    },
    {
      "cell_type": "code",
      "source": [
        "#what is variables?\n",
        "#variables are containers where we can store valuable information and reuse it.\n",
        "#what is purpose of varaibles?\n",
        "#is to reduce the memory size.\n",
        "#how to create the variables?\n",
        "x=40\n",
        "son_age=x/2\n",
        "print(son_age)\n",
        "#how we are going to access the variables?\n",
        "#print()\n"
      ],
      "metadata": {
        "colab": {
          "base_uri": "https://localhost:8080/"
        },
        "id": "H5gB8AlEP6s5",
        "outputId": "8c7ea45d-1c55-4083-ea9f-e3acb70e0edf"
      },
      "execution_count": null,
      "outputs": [
        {
          "output_type": "stream",
          "name": "stdout",
          "text": [
            "20.0\n"
          ]
        }
      ]
    },
    {
      "cell_type": "code",
      "source": [
        "#python is an interpreted language?\n",
        "#menas it will execute the code line by line\n",
        "x=10\n",
        "y=5\n",
        "x=60\n",
        "y=10\n",
        "print(x+y)"
      ],
      "metadata": {
        "colab": {
          "base_uri": "https://localhost:8080/"
        },
        "id": "Byy2zloSRkbS",
        "outputId": "976e25ae-4b0a-4958-f8ce-76f3abbce3a6"
      },
      "execution_count": null,
      "outputs": [
        {
          "output_type": "stream",
          "name": "stdout",
          "text": [
            "70\n"
          ]
        }
      ]
    },
    {
      "cell_type": "code",
      "source": [
        "#take two variables of integers and apply all the arthamatic operations?\n",
        "a=5\n",
        "b=2\n",
        "print(a+b)\n",
        "print(a-b)\n",
        "print(a*b)\n",
        "print(a/b)\n",
        "print(a//b)\n",
        "print(a**b)\n",
        "print(a&b)"
      ],
      "metadata": {
        "colab": {
          "base_uri": "https://localhost:8080/"
        },
        "id": "njIhU07lS1FI",
        "outputId": "80eaef1f-3ebe-4a82-a825-f885d9dec4a1"
      },
      "execution_count": null,
      "outputs": [
        {
          "output_type": "stream",
          "name": "stdout",
          "text": [
            "7\n",
            "3\n",
            "10\n",
            "2.5\n",
            "2\n",
            "25\n",
            "0\n"
          ]
        }
      ]
    },
    {
      "cell_type": "code",
      "source": [
        "#python is a dynamically typed programming language?\n",
        "#we are not defining the dtype for variables python can read dtypes automatically\n",
        "x=10\n",
        "print(type(x))\n",
        "y=\"hello world\"\n",
        "print(type(y))\n",
        "\n"
      ],
      "metadata": {
        "colab": {
          "base_uri": "https://localhost:8080/"
        },
        "id": "vqUFmO3jSBYC",
        "outputId": "c6512f33-8633-456f-c8b1-0b4dfad460e7"
      },
      "execution_count": null,
      "outputs": [
        {
          "output_type": "stream",
          "name": "stdout",
          "text": [
            "<class 'int'>\n",
            "<class 'str'>\n"
          ]
        }
      ]
    },
    {
      "cell_type": "code",
      "source": [
        "#Rules for creating varaibles.\n",
        "#1.always start creating the variables with alphabets.\n",
        "'''a=\"hello world\"\n",
        "print(a)'''\n",
        "#2.don't start creating the variables with numbers\n",
        "#ex 2=\"hello world\"\n",
        "#   print(2)\n",
        "#3.if you follow rule 1 and 2 the you can start creating variables with alphabets in b/w you include numbers.\n",
        "\n",
        "\n",
        "#4.don't give spaces in b/w the variables.\n",
        "#ex: son age = 20\n",
        "#    print(son age)\n",
        "\n",
        "#5. don't use special characters .----> !,@ ,#,$,%,^,&\n",
        "# @=10\n",
        "# print(@)\n",
        "\n",
        "#6.you can start creating variables with (_) special characters\n",
        "#ex _ = 10\n",
        "# print(_)\n",
        "\n",
        "#7.always prefer variables in lowercase\n"
      ],
      "metadata": {
        "id": "BbpKHu05S9MN"
      },
      "execution_count": null,
      "outputs": []
    },
    {
      "cell_type": "code",
      "source": [
        "#python is a case senstive language?\n",
        "#ex--. x = \"hello world\"\n",
        "# print(X)"
      ],
      "metadata": {
        "id": "sfz5y_TwUYJZ"
      },
      "execution_count": null,
      "outputs": []
    },
    {
      "cell_type": "code",
      "source": [
        "#1.assign multiple values to the multiple varaibles and frint in seperate line\n",
        "a,b,c = 10,20,30\n",
        "print(a)\n",
        "print(b)\n",
        "print(c)\n",
        "#use \"sep=\\n\" operator to print values in separate line\n",
        "print(a,b,c,sep=\"\\n\")"
      ],
      "metadata": {
        "colab": {
          "base_uri": "https://localhost:8080/"
        },
        "id": "ljxYoTmQWxAb",
        "outputId": "a360a3e9-7e52-4cdf-99dc-98f131a6f1f4"
      },
      "execution_count": null,
      "outputs": [
        {
          "output_type": "stream",
          "name": "stdout",
          "text": [
            "10\n",
            "20\n",
            "30\n",
            "10\n",
            "20\n",
            "30\n"
          ]
        }
      ]
    },
    {
      "cell_type": "code",
      "source": [
        "#Assign same value to the multiple variables and print in seperate line?\n",
        "a=b=c=10\n",
        "print(a,b,c,sep=\"\\n\")"
      ],
      "metadata": {
        "colab": {
          "base_uri": "https://localhost:8080/"
        },
        "id": "skOk2t1SX69q",
        "outputId": "2d0300f9-c7f5-4c39-cc23-6a64acf262a6"
      },
      "execution_count": null,
      "outputs": [
        {
          "output_type": "stream",
          "name": "stdout",
          "text": [
            "10\n",
            "10\n",
            "10\n"
          ]
        }
      ]
    },
    {
      "cell_type": "code",
      "source": [
        "a=10\n",
        "b=10\n",
        "c=10\n",
        "print(a,b,c,sep=\"\\n\")"
      ],
      "metadata": {
        "colab": {
          "base_uri": "https://localhost:8080/"
        },
        "id": "MnDDMBICYOa-",
        "outputId": "bdb9ed03-57c0-4f56-8eb1-a6b9acd73471"
      },
      "execution_count": null,
      "outputs": [
        {
          "output_type": "stream",
          "name": "stdout",
          "text": [
            "10\n",
            "10\n",
            "10\n"
          ]
        }
      ]
    },
    {
      "cell_type": "code",
      "source": [
        "#Python Identifier is the name we give to identify a variable, function, class, module or other object."
      ],
      "metadata": {
        "id": "aTvHJn4bZQDZ"
      },
      "execution_count": null,
      "outputs": []
    },
    {
      "cell_type": "markdown",
      "source": [
        "#Input()"
      ],
      "metadata": {
        "id": "w7ysMNVkYym1"
      }
    },
    {
      "cell_type": "code",
      "source": [
        "#what is input()?\n",
        "#it intakes every information/data/values given by user\n",
        "#where we have to use this input?\n",
        "#when user is given mutliple information/data/value to the same variables then we have to use input()\n",
        "#why we are using input()? or what is the purpose of using the input()?\n",
        "#to maintain the ram/memory"
      ],
      "metadata": {
        "id": "b8YyOtSMY33d"
      },
      "execution_count": null,
      "outputs": []
    },
    {
      "cell_type": "code",
      "source": [
        "#how to create input() and how to access the input()?\n",
        "# we are using input functions along with a variable name to create input()\n",
        "#we are using print() to access the input()\n"
      ],
      "metadata": {
        "id": "Ir0yXargaum_"
      },
      "execution_count": null,
      "outputs": []
    },
    {
      "cell_type": "code",
      "source": [
        "#give message inside the input function.\n",
        "\n",
        "a=input(\"enter the number=\")\n",
        "print(a)\n",
        "#the default data type for input() is string.\n",
        "#why default data type for input() is string?\n",
        "#user may give different types of information/data/value the input function has built in such a way so it can take any kind of information so that's why default dtype is string.\n"
      ],
      "metadata": {
        "colab": {
          "base_uri": "https://localhost:8080/"
        },
        "id": "GuYaEoKgcE7H",
        "outputId": "1f6b8406-6898-4f0a-9cd1-09c91ba90f40"
      },
      "execution_count": null,
      "outputs": [
        {
          "output_type": "stream",
          "name": "stdout",
          "text": [
            "enter the number=23\n",
            "23\n"
          ]
        }
      ]
    },
    {
      "cell_type": "markdown",
      "source": [
        "#Strings"
      ],
      "metadata": {
        "id": "09-q3wkZd5Wm"
      }
    },
    {
      "cell_type": "code",
      "source": [
        "#what is strings?\n",
        "#collection of multiple characters that are written inside quates.------->(\" \") or(' ')\n",
        "#how can you denote or write a multiline string?\n",
        "print(\"\"\" hi\n",
        "I'm using python mutiline string\n",
        "this is my 1st execution \"\"\")"
      ],
      "metadata": {
        "colab": {
          "base_uri": "https://localhost:8080/"
        },
        "id": "acnSebE7d_W8",
        "outputId": "82d20baf-acb2-4fcc-cd9f-9ab4d8829443"
      },
      "execution_count": null,
      "outputs": [
        {
          "output_type": "stream",
          "name": "stdout",
          "text": [
            " hi\n",
            "I'm using python mutiline string\n",
            "this is my 1st execution \n"
          ]
        }
      ]
    },
    {
      "cell_type": "code",
      "source": [
        "#string is a collection of multiple characters,each characters in string can be accessible.\n",
        "#how can we access each character in a string ?\n",
        "#we are using \"indexing\" and \"slicing operator\" to access the specific characters in a string\n"
      ],
      "metadata": {
        "id": "EyjbqHUdhi68"
      },
      "execution_count": null,
      "outputs": []
    },
    {
      "cell_type": "code",
      "source": [
        "#indexing- positional number of each character in a string\n",
        "#these indexing can be starts with zero\n",
        "#slicing operators---> [] ---->it is use to break the string.also used to retrive substring from the main string.\n"
      ],
      "metadata": {
        "id": "6rh77nsziuTh"
      },
      "execution_count": null,
      "outputs": []
    },
    {
      "cell_type": "code",
      "source": [
        "#what is substring?\n",
        "#is nothing but a part of main string"
      ],
      "metadata": {
        "id": "deuOTZ5Hja9v"
      },
      "execution_count": null,
      "outputs": []
    },
    {
      "cell_type": "code",
      "source": [
        "#how to find how many index and how to find length of a string?\n",
        "x=\"Hello world!\"\n",
        "#to find the length of string we are using len function-------> len()\n",
        "#length can be start from the 1\n",
        "print(len(x))\n",
        "#if you want to find the total index sunstract length -1\n",
        "print(len(x)-1)"
      ],
      "metadata": {
        "colab": {
          "base_uri": "https://localhost:8080/"
        },
        "id": "MNZ5u3_wj5QF",
        "outputId": "5ba74bbf-b263-46dc-93db-1dc2dbe67fc6"
      },
      "execution_count": null,
      "outputs": [
        {
          "output_type": "stream",
          "name": "stdout",
          "text": [
            "12\n",
            "11\n"
          ]
        }
      ]
    },
    {
      "cell_type": "code",
      "source": [
        "#[start_index values#]\n",
        "x=\"Hello world!\"\n",
        "print(x[0])\n",
        "print(x[6])"
      ],
      "metadata": {
        "colab": {
          "base_uri": "https://localhost:8080/"
        },
        "id": "2l5FpON8kojH",
        "outputId": "0fa5cc64-9a2b-469b-db77-6e34fd728253"
      },
      "execution_count": null,
      "outputs": [
        {
          "output_type": "stream",
          "name": "stdout",
          "text": [
            "H\n",
            "w\n"
          ]
        }
      ]
    },
    {
      "cell_type": "code",
      "source": [
        "#if i want range of characters for example print \"llo wo\" from above string?\n",
        "#[start_index value:end_indexvalue]\n",
        "x=\"Hello world!\"\n",
        "print(x[2:8]) #------> always--------- n+1\n",
        "#when your print range of character by using slicing operation the end character, if u want to display then add it with 1"
      ],
      "metadata": {
        "colab": {
          "base_uri": "https://localhost:8080/"
        },
        "id": "JHL6rBs8k-JK",
        "outputId": "fbe635a0-3ac1-4d60-9932-14c44d3f019e"
      },
      "execution_count": null,
      "outputs": [
        {
          "output_type": "stream",
          "name": "stdout",
          "text": [
            "llo wo\n"
          ]
        }
      ]
    },
    {
      "cell_type": "code",
      "source": [
        "print(x[6:11])"
      ],
      "metadata": {
        "colab": {
          "base_uri": "https://localhost:8080/"
        },
        "id": "N9fHtP1PmDnb",
        "outputId": "d626d7c5-62d5-423a-ea4a-1ec4ac8df3ca"
      },
      "execution_count": null,
      "outputs": [
        {
          "output_type": "stream",
          "name": "stdout",
          "text": [
            "world\n"
          ]
        }
      ]
    },
    {
      "cell_type": "markdown",
      "source": [
        "#13-07-2024"
      ],
      "metadata": {
        "id": "5s6jOc7c7iVB"
      }
    },
    {
      "cell_type": "code",
      "source": [
        "#print characters of the even position for the given string \"Hello world!\"\n",
        "#hLOWRD\n",
        "#[\"start:end:step\"]\n",
        "a=\"Hello world!\"\n",
        "print(a[0:12:2])"
      ],
      "metadata": {
        "colab": {
          "base_uri": "https://localhost:8080/"
        },
        "id": "6dZEXY_1vLmu",
        "outputId": "833f25c5-1af9-475b-e12a-93432880f97f"
      },
      "execution_count": null,
      "outputs": [
        {
          "output_type": "stream",
          "name": "stdout",
          "text": [
            "Hlowrd\n"
          ]
        }
      ]
    },
    {
      "cell_type": "code",
      "source": [
        "#print odd index position characters?\n",
        "print(a[1:12:2])"
      ],
      "metadata": {
        "colab": {
          "base_uri": "https://localhost:8080/"
        },
        "id": "QwBxgEtvvs5e",
        "outputId": "5dd82af9-ceda-4a1d-fbf3-805b4c375664"
      },
      "execution_count": null,
      "outputs": [
        {
          "output_type": "stream",
          "name": "stdout",
          "text": [
            "el ol!\n"
          ]
        }
      ]
    },
    {
      "cell_type": "markdown",
      "source": [
        "#defaulting indexing"
      ],
      "metadata": {
        "id": "TMCcBKxbwuWw"
      }
    },
    {
      "cell_type": "code",
      "source": [
        "#what is defaulting indexing?\n",
        "#during slicing operation if u won't specify the index positional numbers then python can take 0 as the start position number and length measure as the end position number\n",
        "print(a[:])"
      ],
      "metadata": {
        "colab": {
          "base_uri": "https://localhost:8080/"
        },
        "id": "HGzlTiNpwmT8",
        "outputId": "add23c11-5ee4-4396-9dee-989eb5dc8e8c"
      },
      "execution_count": null,
      "outputs": [
        {
          "output_type": "stream",
          "name": "stdout",
          "text": [
            "Hello world!\n"
          ]
        }
      ]
    },
    {
      "cell_type": "code",
      "source": [
        "print(a[::1])#-------------->overall string\n",
        "print(a[::2])#---------------->even position characters\n",
        "print(a[1::2])#----------->odd position characters\n",
        "#default the step value can be 1"
      ],
      "metadata": {
        "colab": {
          "base_uri": "https://localhost:8080/"
        },
        "id": "fDkyPUhqxWGj",
        "outputId": "10a4cdff-a34f-4664-b81e-ca48b0a592f9"
      },
      "execution_count": null,
      "outputs": [
        {
          "output_type": "stream",
          "name": "stdout",
          "text": [
            "Hello world!\n",
            "Hlowrd\n",
            "el ol!\n"
          ]
        }
      ]
    },
    {
      "cell_type": "markdown",
      "source": [
        "#Negative Indexing"
      ],
      "metadata": {
        "id": "WihJjW1-yIPB"
      }
    },
    {
      "cell_type": "code",
      "source": [
        "#What is -ve indexing?\n",
        "#it is define as indexing the positional characters from right to left(reverse direction) by using -ve numbers\n",
        "#-ve indexing can be starts with -1\n",
        "#by using -ve indexing e can access the characters in the reverse direction\n",
        "s=\"Hello world!\"\n",
        "#[start]\n",
        "#print the w by using-ve indexing?\n",
        "print(s[-6])\n"
      ],
      "metadata": {
        "colab": {
          "base_uri": "https://localhost:8080/"
        },
        "id": "djzUiK6Ixbnk",
        "outputId": "414e4059-62c5-4f61-c8dd-a61646186929"
      },
      "execution_count": null,
      "outputs": [
        {
          "output_type": "stream",
          "name": "stdout",
          "text": [
            "w\n"
          ]
        }
      ]
    },
    {
      "cell_type": "code",
      "source": [
        "#print range of characters in -ve indexing?\n",
        "#world\n",
        "print(s[-6:-1])"
      ],
      "metadata": {
        "id": "Px8ZA7LhzX90",
        "colab": {
          "base_uri": "https://localhost:8080/"
        },
        "outputId": "24dcbff1-503c-4d73-fa5d-a6117f124dfe"
      },
      "execution_count": null,
      "outputs": [
        {
          "output_type": "stream",
          "name": "stdout",
          "text": [
            "world\n"
          ]
        }
      ]
    },
    {
      "cell_type": "code",
      "source": [
        "#reverse a string \"hello world!\"\n",
        "#!drow olleh\n",
        "#[start:end:step]\n",
        "print(a[-1:-13:-1])"
      ],
      "metadata": {
        "colab": {
          "base_uri": "https://localhost:8080/"
        },
        "id": "UY5tv1PD0DFu",
        "outputId": "18fabe9b-f942-4fea-bbe2-b811af91a311"
      },
      "execution_count": null,
      "outputs": [
        {
          "output_type": "stream",
          "name": "stdout",
          "text": [
            "dlrow olleH\n"
          ]
        }
      ]
    },
    {
      "cell_type": "code",
      "source": [
        "print(a[::-1])"
      ],
      "metadata": {
        "colab": {
          "base_uri": "https://localhost:8080/"
        },
        "id": "Sb8DQQ_Z0SSo",
        "outputId": "ad09e57a-5c48-49b3-8303-19b85c25a3c9"
      },
      "execution_count": null,
      "outputs": [
        {
          "output_type": "stream",
          "name": "stdout",
          "text": [
            "dlrow olleH\n"
          ]
        }
      ]
    },
    {
      "cell_type": "code",
      "source": [
        "#check wheather the given string is palindrome or not?\n",
        "a=input(\"enter the string:\")\n",
        "print(a[::-1])"
      ],
      "metadata": {
        "colab": {
          "base_uri": "https://localhost:8080/"
        },
        "id": "a2rqZDKb068N",
        "outputId": "d8f5dbca-d02f-4a42-af5b-66ab51d9dfe0"
      },
      "execution_count": null,
      "outputs": [
        {
          "output_type": "stream",
          "name": "stdout",
          "text": [
            "enter the string:mom\n",
            "mom\n"
          ]
        }
      ]
    },
    {
      "cell_type": "markdown",
      "source": [
        "#String methods"
      ],
      "metadata": {
        "id": "h-p_fvIH1huF"
      }
    },
    {
      "cell_type": "code",
      "source": [
        "#what are all methods applicable on the string?\n",
        "#use dir() it will tells you what are all the methods can be applicable for the given string\n",
        "#what is dir()?\n",
        "#it returns what are all the methods applicable on the given string\n",
        "a=\"hello world\"\n",
        "#to find methods use dir()\n",
        "print(dir(a))"
      ],
      "metadata": {
        "colab": {
          "base_uri": "https://localhost:8080/"
        },
        "id": "sId2Rq8S1L0H",
        "outputId": "4527117a-b31b-4bec-e22e-38bf21c6d23b"
      },
      "execution_count": null,
      "outputs": [
        {
          "output_type": "stream",
          "name": "stdout",
          "text": [
            "['__add__', '__class__', '__contains__', '__delattr__', '__dir__', '__doc__', '__eq__', '__format__', '__ge__', '__getattribute__', '__getitem__', '__getnewargs__', '__gt__', '__hash__', '__init__', '__init_subclass__', '__iter__', '__le__', '__len__', '__lt__', '__mod__', '__mul__', '__ne__', '__new__', '__reduce__', '__reduce_ex__', '__repr__', '__rmod__', '__rmul__', '__setattr__', '__sizeof__', '__str__', '__subclasshook__', 'capitalize', 'casefold', 'center', 'count', 'encode', 'endswith', 'expandtabs', 'find', 'format', 'format_map', 'index', 'isalnum', 'isalpha', 'isascii', 'isdecimal', 'isdigit', 'isidentifier', 'islower', 'isnumeric', 'isprintable', 'isspace', 'istitle', 'isupper', 'join', 'ljust', 'lower', 'lstrip', 'maketrans', 'partition', 'removeprefix', 'removesuffix', 'replace', 'rfind', 'rindex', 'rjust', 'rpartition', 'rsplit', 'rstrip', 'split', 'splitlines', 'startswith', 'strip', 'swapcase', 'title', 'translate', 'upper', 'zfill']\n"
          ]
        }
      ]
    },
    {
      "cell_type": "code",
      "source": [
        "#important string methods\n",
        "#1.capitalize\n",
        "print(a.capitalize())            #-------->o/p--------->Hello world\n",
        "#2.upper\n",
        "print(a.upper())           #------->o/p---->HELLO WORLD\n",
        "print(a.title())\n",
        "\n"
      ],
      "metadata": {
        "colab": {
          "base_uri": "https://localhost:8080/"
        },
        "id": "xKdIp8tU2sDK",
        "outputId": "f50e9a88-bc58-4a6c-b2ab-74cf2039a8ed"
      },
      "execution_count": null,
      "outputs": [
        {
          "output_type": "stream",
          "name": "stdout",
          "text": [
            "Hello world\n",
            "HELLO WORLD\n",
            "Hello World\n"
          ]
        }
      ]
    },
    {
      "cell_type": "code",
      "source": [
        "#swapcase\n",
        "a=\"hello\"\n",
        "b=\"world\"\n",
        "temp=a\n",
        "a=b\n",
        "b=temp\n",
        "print(a,b)\n",
        "\n"
      ],
      "metadata": {
        "colab": {
          "base_uri": "https://localhost:8080/"
        },
        "id": "8z3_rIHE5nWG",
        "outputId": "d87b34fd-cc34-48e0-85ac-c62037c90950"
      },
      "execution_count": null,
      "outputs": [
        {
          "output_type": "stream",
          "name": "stdout",
          "text": [
            "world hello\n"
          ]
        }
      ]
    },
    {
      "cell_type": "code",
      "source": [
        "#3.lower\n",
        "a=\"HELLO WORLD\"\n",
        "print(a.lower())\n",
        "print(a.title())\n",
        "print(a.swapcase())"
      ],
      "metadata": {
        "colab": {
          "base_uri": "https://localhost:8080/"
        },
        "id": "rggMpnap3Xx7",
        "outputId": "35e7319a-035d-4c2b-c512-b7e47da8d17f"
      },
      "execution_count": null,
      "outputs": [
        {
          "output_type": "stream",
          "name": "stdout",
          "text": [
            "hello world\n",
            "Hello World\n",
            "hello world\n"
          ]
        }
      ]
    },
    {
      "cell_type": "code",
      "source": [
        "a = \" hello world   !\"\n",
        "print(a.strip())\n",
        "print(a.)"
      ],
      "metadata": {
        "colab": {
          "base_uri": "https://localhost:8080/"
        },
        "id": "ggzvKsjR33d6",
        "outputId": "2c912c72-d9d1-4232-d2b8-b16c9e45b4db"
      },
      "execution_count": null,
      "outputs": [
        {
          "output_type": "stream",
          "name": "stdout",
          "text": [
            "hello world   !\n"
          ]
        }
      ]
    },
    {
      "cell_type": "code",
      "source": [
        "a = \"  helo world   \"\n",
        "print(a.strip())\n",
        "print(a.lstrip())\n",
        "print(a.rstrip())"
      ],
      "metadata": {
        "id": "sz8372pj4uJL",
        "colab": {
          "base_uri": "https://localhost:8080/"
        },
        "outputId": "73bd8dd9-e43c-4bb8-ae1b-ca9365e4c7ee"
      },
      "execution_count": null,
      "outputs": [
        {
          "output_type": "stream",
          "name": "stdout",
          "text": [
            "helo world\n",
            "helo world   \n",
            "  helo world\n"
          ]
        }
      ]
    },
    {
      "cell_type": "code",
      "source": [
        "a = \"hello good morning\"\n",
        "print(a.replace(\"morning\",\"afternoon\"))"
      ],
      "metadata": {
        "colab": {
          "base_uri": "https://localhost:8080/"
        },
        "id": "2QXVLvRq9ed5",
        "outputId": "a4eb3e42-4a9a-4c20-d593-c5d39449ab9a"
      },
      "execution_count": null,
      "outputs": [
        {
          "output_type": "stream",
          "name": "stdout",
          "text": [
            "hello good afternoon\n"
          ]
        }
      ]
    },
    {
      "cell_type": "code",
      "source": [
        "a = \"hello i am practicing python daily 2 times\"\n",
        "print(a.isalpha())"
      ],
      "metadata": {
        "colab": {
          "base_uri": "https://localhost:8080/"
        },
        "id": "TDmkoDn79jPx",
        "outputId": "6f5ceef9-c615-474b-e5ba-b084cb5f8052"
      },
      "execution_count": null,
      "outputs": [
        {
          "output_type": "stream",
          "name": "stdout",
          "text": [
            "False\n"
          ]
        }
      ]
    },
    {
      "cell_type": "code",
      "source": [
        "a = \"helloiam\"\n",
        "print(a.isalpha())"
      ],
      "metadata": {
        "colab": {
          "base_uri": "https://localhost:8080/"
        },
        "id": "84WIzmyn9n7J",
        "outputId": "ad49c194-b554-46d8-e5dd-39df3112cd37"
      },
      "execution_count": null,
      "outputs": [
        {
          "output_type": "stream",
          "name": "stdout",
          "text": [
            "True\n"
          ]
        }
      ]
    },
    {
      "cell_type": "code",
      "source": [
        "b = \"123456\"\n",
        "print(b.isalnum())"
      ],
      "metadata": {
        "colab": {
          "base_uri": "https://localhost:8080/"
        },
        "id": "17FLh1hv9r0T",
        "outputId": "b4958892-d44a-4ca2-a57e-343ee2c513ad"
      },
      "execution_count": null,
      "outputs": [
        {
          "output_type": "stream",
          "name": "stdout",
          "text": [
            "True\n"
          ]
        }
      ]
    },
    {
      "cell_type": "code",
      "source": [
        "b = \"123456\"\n",
        "print(b.find(\"6\")) #it returns the indexing position of the given string"
      ],
      "metadata": {
        "colab": {
          "base_uri": "https://localhost:8080/"
        },
        "id": "TKH-_lSJ9uaJ",
        "outputId": "66cb54c4-4f35-4031-da97-15dc87325bab"
      },
      "execution_count": null,
      "outputs": [
        {
          "output_type": "stream",
          "name": "stdout",
          "text": [
            "5\n"
          ]
        }
      ]
    },
    {
      "cell_type": "code",
      "source": [
        "c = \"hello word\"\n",
        "print(c.find(\"o\"))"
      ],
      "metadata": {
        "colab": {
          "base_uri": "https://localhost:8080/"
        },
        "id": "nKORpWu19x0S",
        "outputId": "d4f669ca-132b-40fe-8fc3-0a926171757d"
      },
      "execution_count": null,
      "outputs": [
        {
          "output_type": "stream",
          "name": "stdout",
          "text": [
            "4\n"
          ]
        }
      ]
    },
    {
      "cell_type": "markdown",
      "source": [
        "#string formating methods"
      ],
      "metadata": {
        "id": "ezqJJJa26qQA"
      }
    },
    {
      "cell_type": "code",
      "source": [
        "#what is string formating method?\n",
        "#it is defined as formating method can takes an argument and place it over a placeholder{}.\n",
        "#This can be three 3 types.\n",
        "#\n",
        "\n",
        "age=10\n",
        "my = \"my age is \"\n",
        "print()"
      ],
      "metadata": {
        "id": "VpB3iSlh6ui2",
        "colab": {
          "base_uri": "https://localhost:8080/"
        },
        "outputId": "f46644e0-7c64-4d5f-8d5f-03a0af27e7b1"
      },
      "execution_count": null,
      "outputs": [
        {
          "output_type": "stream",
          "name": "stdout",
          "text": [
            "\n"
          ]
        }
      ]
    },
    {
      "cell_type": "code",
      "source": [
        "#string concatination\n",
        "a=\"hello\"\n",
        "b=\"world\"\n",
        "print(a+\" \"+b)\n"
      ],
      "metadata": {
        "colab": {
          "base_uri": "https://localhost:8080/"
        },
        "id": "LPQHknAU9f5n",
        "outputId": "553c36f9-a6be-4ef4-9c88-761caf8f62cb"
      },
      "execution_count": null,
      "outputs": [
        {
          "output_type": "stream",
          "name": "stdout",
          "text": [
            "hello world\n"
          ]
        }
      ]
    },
    {
      "cell_type": "code",
      "source": [
        "#1st formating method.print formatting method\n",
        "age = 10\n",
        "my_age = \"i am {} years old.\"\n",
        "print(my_age.format(10))\n"
      ],
      "metadata": {
        "colab": {
          "base_uri": "https://localhost:8080/"
        },
        "id": "KCop29f--Bz-",
        "outputId": "56779c0d-678f-4413-fe20-4005d90e0ddb"
      },
      "execution_count": null,
      "outputs": [
        {
          "output_type": "stream",
          "name": "stdout",
          "text": [
            "i am 10 years old.\n"
          ]
        }
      ]
    },
    {
      "cell_type": "code",
      "source": [
        "#2nd string format method using format at end of the string\n",
        "age=10\n",
        "my_age = \"i am {} years old.\".format(10)\n",
        "print(my_age)"
      ],
      "metadata": {
        "colab": {
          "base_uri": "https://localhost:8080/"
        },
        "id": "6oNwHCN49vMe",
        "outputId": "45110101-b784-451a-e9fd-cace3d814545"
      },
      "execution_count": null,
      "outputs": [
        {
          "output_type": "stream",
          "name": "stdout",
          "text": [
            "i am 10 years old.\n"
          ]
        }
      ]
    },
    {
      "cell_type": "code",
      "source": [
        "#3rd f'string format method':\n",
        "age=10\n",
        "my_age= f'i am {age} years old'\n",
        "print(my_age)"
      ],
      "metadata": {
        "colab": {
          "base_uri": "https://localhost:8080/"
        },
        "id": "MdQmuyZX-57U",
        "outputId": "57be323e-5500-411b-dfc9-2d2ccc62d6f3"
      },
      "execution_count": null,
      "outputs": [
        {
          "output_type": "stream",
          "name": "stdout",
          "text": [
            "i am 10 years old\n"
          ]
        }
      ]
    },
    {
      "cell_type": "code",
      "source": [
        "#1st method\n",
        "item_name=\"product A\"\n",
        "quantity = 10\n",
        "price_each = 99.9\n",
        "Notification= \"your order for {} has confirmed at a price of {},and quantity of {} ,placed sucessfully\"\n",
        "#expected o/p----->your order for product A has confirmed at a price of 999.9,placed sucessfully\n",
        "print(Notification.format(item_name,price_each*quantity,quantity))"
      ],
      "metadata": {
        "colab": {
          "base_uri": "https://localhost:8080/"
        },
        "id": "h8dKSgEN_KEF",
        "outputId": "844d66dd-ac90-4210-ce0a-12054b0bb1cb"
      },
      "execution_count": null,
      "outputs": [
        {
          "output_type": "stream",
          "name": "stdout",
          "text": [
            "your order for product A has confirmed at a price of 999.0,and quantity of 10 ,placed sucessfully\n"
          ]
        }
      ]
    },
    {
      "cell_type": "code",
      "source": [
        "#2nd method\n",
        "item_name=\"product A\"\n",
        "quantity = 10\n",
        "price_each = 99.9\n",
        "Notification= \"your order for {} has confirmed at a price of {},and quantity of {} ,placed sucessfully\".format(item_name,price_each*quantity,quantity)\n",
        "#expected o/p----->your order for product A has confirmed at a price of 999.9,placed sucessfully\n",
        "print(Notification)\n"
      ],
      "metadata": {
        "colab": {
          "base_uri": "https://localhost:8080/"
        },
        "id": "OEql4075A01d",
        "outputId": "e83d1fe1-4a88-4494-b31b-1d8a1fb85008"
      },
      "execution_count": null,
      "outputs": [
        {
          "output_type": "stream",
          "name": "stdout",
          "text": [
            "your order for product A has confirmed at a price of 999.0,and quantity of 10 ,placed sucessfully\n"
          ]
        }
      ]
    },
    {
      "cell_type": "code",
      "source": [
        "#3rd method\n",
        "item_name=\"product A\"\n",
        "quantity = 10\n",
        "price_each = 99.9\n",
        "Notification=f' your order for {item_name} has confirmed at a price of {price_each*quantity},and quantity of {quantity} ,placed sucessfully'\n",
        "#expected o/p----->your order for product A has confirmed at a price of 999.9,placed sucessfully\n",
        "print(Notification)"
      ],
      "metadata": {
        "colab": {
          "base_uri": "https://localhost:8080/"
        },
        "id": "0Qf7zmLjBr0c",
        "outputId": "9aae1c19-0b6b-4b6f-a659-b25af4475580"
      },
      "execution_count": null,
      "outputs": [
        {
          "output_type": "stream",
          "name": "stdout",
          "text": [
            " your order for product A has confirmed at a price of 999.0,and quantity of 10 ,placed sucessfully\n"
          ]
        }
      ]
    },
    {
      "cell_type": "markdown",
      "source": [
        "#escape characters\n"
      ],
      "metadata": {
        "id": "fHTgWcNID8UE"
      }
    },
    {
      "cell_type": "code",
      "source": [
        "#what is escape characters?\n",
        "#escape characrters are nothing but if you want to  print illegal character in a string we have to use escape characters\n",
        "#----->use backward slash \"\\\" infront of illegal character next  at the end also use \"\\\" before illegal characters"
      ],
      "metadata": {
        "id": "U4pCjJ8zCEPk"
      },
      "execution_count": null,
      "outputs": []
    },
    {
      "cell_type": "code",
      "source": [
        "a=\"Dywan \\\"The rock\\\" Johnson.\"\n",
        "print(a)\n"
      ],
      "metadata": {
        "colab": {
          "base_uri": "https://localhost:8080/"
        },
        "id": "itxfC2F6Eng3",
        "outputId": "301dae47-48cb-4ae3-aed4-6ed479286c77"
      },
      "execution_count": null,
      "outputs": [
        {
          "output_type": "stream",
          "name": "stdout",
          "text": [
            "Dywan \"The rock\" Johnson.\n"
          ]
        }
      ]
    },
    {
      "cell_type": "code",
      "source": [
        "print(round(7.25,-1))"
      ],
      "metadata": {
        "colab": {
          "base_uri": "https://localhost:8080/"
        },
        "id": "xDznOfrqFBB7",
        "outputId": "e2535e88-fa10-41ad-9dd9-de9c8c39d097"
      },
      "execution_count": null,
      "outputs": [
        {
          "output_type": "stream",
          "name": "stdout",
          "text": [
            "10.0\n"
          ]
        }
      ]
    },
    {
      "cell_type": "code",
      "source": [],
      "metadata": {
        "id": "7rQf6mjm2dy2"
      },
      "execution_count": null,
      "outputs": []
    },
    {
      "cell_type": "markdown",
      "source": [
        "#15/07/2024"
      ],
      "metadata": {
        "id": "VWZxiXWGulMA"
      }
    },
    {
      "cell_type": "markdown",
      "source": [
        "#loops\n"
      ],
      "metadata": {
        "id": "Pplovyq1qzN6"
      }
    },
    {
      "cell_type": "code",
      "source": [
        "#why we use loops?\n",
        "#we use loops to add avoid duplicate codes\n",
        "\n",
        "#how many types of codes we are having python\n",
        "#1.WET codes          #DRY codes\n",
        "#W --> Write          D----> Don't\n",
        "#E---> everything     R--->repeat\n",
        "#T --> Twice          y---->yourself\n",
        "\n",
        "\n",
        "#what are all the loops do we have in python?\n",
        "#1.while loop\n",
        "#2.for loop"
      ],
      "metadata": {
        "id": "TmGlfS6GsmSJ"
      },
      "execution_count": null,
      "outputs": []
    },
    {
      "cell_type": "code",
      "source": [
        "#1.while loops:-It runs set of instructions as long as condition remains returns\n"
      ],
      "metadata": {
        "id": "-dJlEvpqr4NA"
      },
      "execution_count": null,
      "outputs": []
    },
    {
      "cell_type": "code",
      "source": [
        "target = 5\n",
        "intial = 0\n",
        "while intial < target :\n",
        "  print(\"go up\")\n",
        "  print(\"go down\")\n",
        "  print(\"======================rep completed==============\")\n",
        "  intial = intial + 1\n"
      ],
      "metadata": {
        "colab": {
          "base_uri": "https://localhost:8080/"
        },
        "id": "0JcaLklOr4Jm",
        "outputId": "64660e0e-ffe4-4b53-f6ee-27703ce08a3b"
      },
      "execution_count": null,
      "outputs": [
        {
          "output_type": "stream",
          "name": "stdout",
          "text": [
            "go up\n",
            "go down\n",
            "======================rep completed==============\n",
            "go up\n",
            "go down\n",
            "======================rep completed==============\n",
            "go up\n",
            "go down\n",
            "======================rep completed==============\n",
            "go up\n",
            "go down\n",
            "======================rep completed==============\n",
            "go up\n",
            "go down\n",
            "======================rep completed==============\n"
          ]
        }
      ]
    },
    {
      "cell_type": "code",
      "source": [
        "#write program to run a lift\n",
        "target=int(input(\"enter your floor number : \"))\n",
        "ground_floor=0\n",
        "while ground_floor<=target:\n",
        "  print(f'you have reached {ground_floor} floor')\n",
        "  ground_floor =ground_floor + 1\n"
      ],
      "metadata": {
        "colab": {
          "base_uri": "https://localhost:8080/"
        },
        "id": "vfp3TL6tsonn",
        "outputId": "c5eb81ce-c3ea-456c-ceff-3f30017458e1"
      },
      "execution_count": null,
      "outputs": [
        {
          "output_type": "stream",
          "name": "stdout",
          "text": [
            "enter your floor number : 5\n",
            "you have reached 0 floor\n",
            "you have reached 1 floor\n",
            "you have reached 2 floor\n",
            "you have reached 3 floor\n",
            "you have reached 4 floor\n",
            "you have reached 5 floor\n"
          ]
        }
      ]
    },
    {
      "cell_type": "code",
      "source": [
        "#write a program  to print 10 digit using while loop in seperate lines\n",
        "n=int(input(\"enter the digits:\"))\n",
        "m=0\n",
        "while m<=n:\n",
        "  print(f'print digit {m} ')\n",
        "  m=m+1"
      ],
      "metadata": {
        "colab": {
          "base_uri": "https://localhost:8080/"
        },
        "id": "BF4hYHyGuWrh",
        "outputId": "6114f78b-aca8-489c-c445-05ee4f1a5136"
      },
      "execution_count": null,
      "outputs": [
        {
          "output_type": "stream",
          "name": "stdout",
          "text": [
            "enter the digits:10\n",
            "print digit 0 \n",
            "print digit 1 \n",
            "print digit 2 \n",
            "print digit 3 \n",
            "print digit 4 \n",
            "print digit 5 \n",
            "print digit 6 \n",
            "print digit 7 \n",
            "print digit 8 \n",
            "print digit 9 \n",
            "print digit 10 \n"
          ]
        }
      ]
    },
    {
      "cell_type": "code",
      "source": [
        "#write a program to print odd digits using while loop in separate lines upto 10?\n",
        "n=int(input(\"enter the digits: \"))\n",
        "m=1\n",
        "while m<=n:\n",
        "  print(m)\n",
        "  m=m+2"
      ],
      "metadata": {
        "colab": {
          "base_uri": "https://localhost:8080/"
        },
        "id": "xg3RZ_v1veQn",
        "outputId": "e4125a69-a47a-4396-a812-bf3d8c462438"
      },
      "execution_count": null,
      "outputs": [
        {
          "output_type": "stream",
          "name": "stdout",
          "text": [
            "enter the digits: 10\n",
            "1\n",
            "3\n",
            "5\n",
            "7\n",
            "9\n"
          ]
        }
      ]
    },
    {
      "cell_type": "code",
      "source": [
        "num= [10,20,30,40,50]\n",
        "#o/p=20,40,60,80,100\n",
        "#write a python to print the multipule of e\n",
        "print(num*2)"
      ],
      "metadata": {
        "colab": {
          "base_uri": "https://localhost:8080/"
        },
        "id": "9OZNYpXHwb1x",
        "outputId": "a3890fab-dd26-45f3-e45c-bdc9afdba942"
      },
      "execution_count": null,
      "outputs": [
        {
          "output_type": "stream",
          "name": "stdout",
          "text": [
            "[10, 20, 30, 40, 50, 10, 20, 30, 40, 50]\n"
          ]
        }
      ]
    },
    {
      "cell_type": "code",
      "source": [
        "#for loop:-it run set of instructions for each and every element in a collections.\n",
        "num= [10,20,30,40,50]\n",
        "for i in num:\n",
        "  print(i*2,end=\" \")"
      ],
      "metadata": {
        "colab": {
          "base_uri": "https://localhost:8080/"
        },
        "id": "moUupzLbw5z_",
        "outputId": "c709917a-e721-44a0-e4a5-e93c507e8516"
      },
      "execution_count": null,
      "outputs": [
        {
          "output_type": "stream",
          "name": "stdout",
          "text": [
            "20 40 60 80 100 "
          ]
        }
      ]
    },
    {
      "cell_type": "code",
      "source": [
        "#print \"hello world\" in separate lines by using loops?\n",
        "x=\"hello world\"\n",
        "for letters in x:\n",
        "  print(letters)"
      ],
      "metadata": {
        "colab": {
          "base_uri": "https://localhost:8080/"
        },
        "id": "5xHwrGDVxw7O",
        "outputId": "e4cee60b-83a5-4dce-fef2-6d0fddb0b4df"
      },
      "execution_count": null,
      "outputs": [
        {
          "output_type": "stream",
          "name": "stdout",
          "text": [
            "h\n",
            "e\n",
            "l\n",
            "l\n",
            "o\n",
            " \n",
            "w\n",
            "o\n",
            "r\n",
            "l\n",
            "d\n"
          ]
        }
      ]
    },
    {
      "cell_type": "code",
      "source": [
        "#is loops can run through each and every element in collection.---------->True"
      ],
      "metadata": {
        "id": "cR4_iI1_zEn9"
      },
      "execution_count": null,
      "outputs": []
    },
    {
      "cell_type": "code",
      "source": [
        "#write a program to print \"Vaishnavi\" upto length of string?\n",
        "#if length is 11 print 11 times if length is 15 print 15times?\n",
        "n=\"vaishnavi\"\n",
        "for i in n:\n",
        "  print(n)"
      ],
      "metadata": {
        "colab": {
          "base_uri": "https://localhost:8080/"
        },
        "id": "5HPQ2QV4zXhO",
        "outputId": "8c1268c2-e0fe-4051-89ba-706c9b1a63d5"
      },
      "execution_count": null,
      "outputs": [
        {
          "output_type": "stream",
          "name": "stdout",
          "text": [
            "vaishnavi\n",
            "vaishnavi\n",
            "vaishnavi\n",
            "vaishnavi\n",
            "vaishnavi\n",
            "vaishnavi\n",
            "vaishnavi\n",
            "vaishnavi\n",
            "vaishnavi\n"
          ]
        }
      ]
    },
    {
      "cell_type": "code",
      "source": [
        "#Break statement:-it terminates or breaks the loop once the condition satisfies.\n",
        "num= [10,20,30,40,50]\n",
        "#break the loop when iteration reaches to 30\n",
        "for i in num:\n",
        "  print(i)\n",
        "  if i==30:\n",
        "    break\n"
      ],
      "metadata": {
        "colab": {
          "base_uri": "https://localhost:8080/"
        },
        "id": "DzxeHJWSz7G8",
        "outputId": "2415157b-c8f6-47dc-c714-1ca93502b7d6"
      },
      "execution_count": null,
      "outputs": [
        {
          "output_type": "stream",
          "name": "stdout",
          "text": [
            "10\n",
            "20\n",
            "30\n"
          ]
        }
      ]
    },
    {
      "cell_type": "code",
      "source": [
        "#Break statement:-it terminates or breaks the loop once the condition satisfies.\n",
        "num= [10,20,30,40,50]\n",
        "#break the loop when iteration reaches to 30\n",
        "for i in num:\n",
        "  if i==30:\n",
        "    break\n",
        "  print(i)"
      ],
      "metadata": {
        "colab": {
          "base_uri": "https://localhost:8080/"
        },
        "id": "UKoQrCU51MdG",
        "outputId": "c7bac0ad-3f6a-43b3-eeb0-1c2979661d78"
      },
      "execution_count": null,
      "outputs": [
        {
          "output_type": "stream",
          "name": "stdout",
          "text": [
            "10\n",
            "20\n"
          ]
        }
      ]
    },
    {
      "cell_type": "code",
      "source": [
        " #if i use the print() before break why i am getting considered condition value?\n",
        " '''python is an interpretted language it will excecutus the code line by line when i have write print() before break .\n",
        " Before executing condition the iteration reaches to specific condition value\n",
        " so we can that specific value along with the iterated values in the output'''\n"
      ],
      "metadata": {
        "id": "-vXLEq-k2Eyg"
      },
      "execution_count": null,
      "outputs": []
    },
    {
      "cell_type": "code",
      "source": [
        "#continue:- It skips the particular iterations when the condition satisfies\n",
        "a=[10,20,30,40,50,60,70,80,90]\n",
        "for x in a:\n",
        "  if x==40:\n",
        "    continue\n",
        "  print(x,end=\" \")\n"
      ],
      "metadata": {
        "colab": {
          "base_uri": "https://localhost:8080/"
        },
        "id": "vS6eKjy932JP",
        "outputId": "d26ddd63-d998-4892-8b20-781e9c417511"
      },
      "execution_count": null,
      "outputs": [
        {
          "output_type": "stream",
          "name": "stdout",
          "text": [
            "10 20 30 50 60 70 80 90 "
          ]
        }
      ]
    },
    {
      "cell_type": "code",
      "source": [
        "#can we do multiple contines.\n",
        "a=[10,20,30,40,50,60,70,80,90]\n",
        "for x in a:\n",
        "  if x in (90,60,70):\n",
        "    continue\n",
        "  print(x,end=\" \")\n"
      ],
      "metadata": {
        "colab": {
          "base_uri": "https://localhost:8080/"
        },
        "id": "ljoiEvvf4cwD",
        "outputId": "5aa0685f-6476-48a1-cdef-ce0ac436fc02"
      },
      "execution_count": null,
      "outputs": [
        {
          "output_type": "stream",
          "name": "stdout",
          "text": [
            "10 20 30 40 50 80 "
          ]
        }
      ]
    },
    {
      "cell_type": "markdown",
      "source": [
        "**Range**\n"
      ],
      "metadata": {
        "id": "b5oZoaRd5qLL"
      }
    },
    {
      "cell_type": "code",
      "source": [
        "#write a program to create a range of numbers.\n",
        "#range(end)\n",
        "for i in range(10):\n",
        "  print(i)"
      ],
      "metadata": {
        "colab": {
          "base_uri": "https://localhost:8080/"
        },
        "id": "3CYBucFE4svF",
        "outputId": "c50f39aa-2c09-47db-cb7a-f799f7f32ed7"
      },
      "execution_count": null,
      "outputs": [
        {
          "output_type": "stream",
          "name": "stdout",
          "text": [
            "0\n",
            "1\n",
            "2\n",
            "3\n",
            "4\n",
            "5\n",
            "6\n",
            "7\n",
            "8\n",
            "9\n"
          ]
        }
      ]
    },
    {
      "cell_type": "code",
      "source": [
        "#print hello world 6 times?\n",
        "for i in range(6):\n",
        "  print(\"Hello world\")"
      ],
      "metadata": {
        "colab": {
          "base_uri": "https://localhost:8080/"
        },
        "id": "Y6IOaBdv6Qd1",
        "outputId": "f656a7af-d142-46e9-edda-2905c4821f55"
      },
      "execution_count": null,
      "outputs": [
        {
          "output_type": "stream",
          "name": "stdout",
          "text": [
            "Hello world\n",
            "Hello world\n",
            "Hello world\n",
            "Hello world\n",
            "Hello world\n",
            "Hello world\n"
          ]
        }
      ]
    },
    {
      "cell_type": "code",
      "source": [
        "#range(start:end)\n",
        "#write a program to print range of value from 10 to 40?\n",
        "for i in range(10,41):\n",
        "  print(i)"
      ],
      "metadata": {
        "colab": {
          "base_uri": "https://localhost:8080/"
        },
        "id": "PthMdSJL6hRw",
        "outputId": "d16659d9-bbc0-4483-a3ad-7e398024e403"
      },
      "execution_count": null,
      "outputs": [
        {
          "output_type": "stream",
          "name": "stdout",
          "text": [
            "10\n",
            "11\n",
            "12\n",
            "13\n",
            "14\n",
            "15\n",
            "16\n",
            "17\n",
            "18\n",
            "19\n",
            "20\n",
            "21\n",
            "22\n",
            "23\n",
            "24\n",
            "25\n",
            "26\n",
            "27\n",
            "28\n",
            "29\n",
            "30\n",
            "31\n",
            "32\n",
            "33\n",
            "34\n",
            "35\n",
            "36\n",
            "37\n",
            "38\n",
            "39\n",
            "40\n"
          ]
        }
      ]
    },
    {
      "cell_type": "code",
      "source": [
        "#write a program to print even numbers from 1 to 20?\n",
        "#range(start,end,step).\n",
        "for i in range (2,21,2):\n",
        "  print(i)"
      ],
      "metadata": {
        "colab": {
          "base_uri": "https://localhost:8080/"
        },
        "id": "JifjONmc65fl",
        "outputId": "bba0a64a-068f-4774-95b3-df4397fa4f49"
      },
      "execution_count": null,
      "outputs": [
        {
          "output_type": "stream",
          "name": "stdout",
          "text": [
            "2\n",
            "4\n",
            "6\n",
            "8\n",
            "10\n",
            "12\n",
            "14\n",
            "16\n",
            "18\n",
            "20\n"
          ]
        }
      ]
    },
    {
      "cell_type": "markdown",
      "source": [
        "#conditional statements"
      ],
      "metadata": {
        "id": "XAzvzz-j9CuM"
      }
    },
    {
      "cell_type": "code",
      "source": [
        "#what is comparision operators? and what is relational operators?\n",
        "#Both are same\n",
        "#1. equals to -----> ==\n",
        "#2.Not equals to----> !=\n",
        "#3.Greater than------> >\n",
        "#4. less than------> <\n",
        "#5. greter than equals to----> >=\n",
        "#6. less than equals to----> <=\n",
        "#7. <>\n"
      ],
      "metadata": {
        "id": "jsNx7PXu7_ks"
      },
      "execution_count": null,
      "outputs": []
    },
    {
      "cell_type": "code",
      "source": [
        "print(10==10)"
      ],
      "metadata": {
        "colab": {
          "base_uri": "https://localhost:8080/"
        },
        "id": "KSmB1Sjk-LFC",
        "outputId": "6157a161-7b23-47bd-d4fb-11f691ad5649"
      },
      "execution_count": null,
      "outputs": [
        {
          "output_type": "stream",
          "name": "stdout",
          "text": [
            "True\n"
          ]
        }
      ]
    },
    {
      "cell_type": "code",
      "source": [
        "print(10!=10)"
      ],
      "metadata": {
        "colab": {
          "base_uri": "https://localhost:8080/"
        },
        "id": "V3sg5Nx_-PHJ",
        "outputId": "fba5f297-0f93-4c62-b004-8a09a8fce4ae"
      },
      "execution_count": null,
      "outputs": [
        {
          "output_type": "stream",
          "name": "stdout",
          "text": [
            "False\n"
          ]
        }
      ]
    },
    {
      "cell_type": "code",
      "source": [
        "print(10>10)"
      ],
      "metadata": {
        "colab": {
          "base_uri": "https://localhost:8080/"
        },
        "id": "1ABpDJRh-S_q",
        "outputId": "e1118498-2c0d-4762-de19-6ce9649da498"
      },
      "execution_count": null,
      "outputs": [
        {
          "output_type": "stream",
          "name": "stdout",
          "text": [
            "False\n"
          ]
        }
      ]
    },
    {
      "cell_type": "code",
      "source": [
        "print(10<10)"
      ],
      "metadata": {
        "colab": {
          "base_uri": "https://localhost:8080/"
        },
        "id": "k5lmxebH-Yxl",
        "outputId": "a54a3f87-09ec-44ae-c8b9-8068c2e93bb1"
      },
      "execution_count": null,
      "outputs": [
        {
          "output_type": "stream",
          "name": "stdout",
          "text": [
            "False\n"
          ]
        }
      ]
    },
    {
      "cell_type": "code",
      "source": [
        "print(10>=10)"
      ],
      "metadata": {
        "colab": {
          "base_uri": "https://localhost:8080/"
        },
        "id": "xOrN7jQN-bQH",
        "outputId": "d2aa79f2-24f2-486b-ad69-0f66ca9adbfd"
      },
      "execution_count": null,
      "outputs": [
        {
          "output_type": "stream",
          "name": "stdout",
          "text": [
            "True\n"
          ]
        }
      ]
    },
    {
      "cell_type": "code",
      "source": [
        "print(10<=10)"
      ],
      "metadata": {
        "colab": {
          "base_uri": "https://localhost:8080/"
        },
        "id": "e1llRdLp-d9x",
        "outputId": "2858feb1-2515-4bb7-da7a-d137e17a6bf6"
      },
      "execution_count": null,
      "outputs": [
        {
          "output_type": "stream",
          "name": "stdout",
          "text": [
            "True\n"
          ]
        }
      ]
    },
    {
      "cell_type": "code",
      "source": [
        "#if-elif---else\n",
        "#print a number wheater it is +ve or -ve or netural\n",
        "number =int(input())\n",
        "if number > 0:\n",
        "  print(\"+ve\")\n",
        "elif number < 0:\n",
        "  print(\"-ve\")\n",
        "else:\n",
        "  print(\"netural\")"
      ],
      "metadata": {
        "colab": {
          "base_uri": "https://localhost:8080/"
        },
        "id": "QhVVTexK-gAQ",
        "outputId": "21f17093-e28d-4e3a-ec2d-4566f86b0e8b"
      },
      "execution_count": null,
      "outputs": [
        {
          "output_type": "stream",
          "name": "stdout",
          "text": [
            "0\n",
            "netural\n"
          ]
        }
      ]
    },
    {
      "cell_type": "code",
      "source": [
        "#Logical operators\n",
        "#not:-it will reverse your output\n",
        "print(not(10==10))"
      ],
      "metadata": {
        "colab": {
          "base_uri": "https://localhost:8080/"
        },
        "id": "XdJ7ND1P_NVv",
        "outputId": "abfe188f-f4b3-4494-a46b-7bf7c093f83d"
      },
      "execution_count": null,
      "outputs": [
        {
          "output_type": "stream",
          "name": "stdout",
          "text": [
            "False\n"
          ]
        }
      ]
    },
    {
      "cell_type": "code",
      "source": [
        "a=10\n",
        "b=35\n",
        "c=90\n",
        "#check the condition a is less than b and c\n",
        "#b is less than c\n",
        "if a<b and a<c and b<c:\n",
        "  print(\"all the conditions satisfied \")\n",
        "else:\n",
        "  print(\"any one conditions not satisfied\")\n"
      ],
      "metadata": {
        "colab": {
          "base_uri": "https://localhost:8080/"
        },
        "id": "9yXyTAmPAQMI",
        "outputId": "62c1da54-591d-436c-9c9e-95f9fa5b67bb"
      },
      "execution_count": null,
      "outputs": [
        {
          "output_type": "stream",
          "name": "stdout",
          "text": [
            "all the conditions satisfied \n"
          ]
        }
      ]
    },
    {
      "cell_type": "code",
      "source": [
        "#pass means null ,noyhing will happens\n",
        "s=int(input())\n",
        "if s>0:\n",
        "  pass\n"
      ],
      "metadata": {
        "id": "WsfZ1HNPBNJL",
        "colab": {
          "base_uri": "https://localhost:8080/"
        },
        "outputId": "4891bb5c-ef69-4f7a-d61f-ed6482e92c38"
      },
      "execution_count": null,
      "outputs": [
        {
          "name": "stdout",
          "output_type": "stream",
          "text": [
            "5\n"
          ]
        }
      ]
    },
    {
      "cell_type": "markdown",
      "source": [
        "#Collections or aslo called iterable\n"
      ],
      "metadata": {
        "id": "cPt6ePm1_7z0"
      }
    },
    {
      "cell_type": "code",
      "source": [
        "#they are 4 types of collection in python\n",
        "#1.tuple\n",
        "#2.list\n",
        "#3.set\n",
        "#4.dictionary"
      ],
      "metadata": {
        "id": "4G03gPnyAETb"
      },
      "execution_count": null,
      "outputs": []
    },
    {
      "cell_type": "code",
      "source": [
        "#List----> orderd(indexing position numbers),mutable(changable),allow duplicates\n",
        "''''1. add--->append,extend\n",
        "2.remove---->pop,remove,del,clear'''\n",
        "#Tuple---->ordered,immutable,allows the duplicates.\n",
        "#set---->unordered(doesn't have any indexing position number),immutable,won't allow duplicates\n",
        "'''except replace or swappping elements we can add and delete elements'''\n",
        "'''1.ADD---> Update,add\n",
        "2.delete--->pop,delete,remove,discard,clear'''\n",
        "#union operation,intersection by using sets--->\n",
        "#dictionary--->unordered,mutable,won't allow duplicates\n",
        "''''replace or swap---> dic['key_name']=\"name\" = \"value\"--->adds new key\"value pairs\n",
        "2.delete-->pop,del,clear'''"
      ],
      "metadata": {
        "id": "f2ugBSiY5OmA"
      },
      "execution_count": null,
      "outputs": []
    },
    {
      "cell_type": "code",
      "source": [],
      "metadata": {
        "id": "xfLbEA4F8PLI"
      },
      "execution_count": null,
      "outputs": []
    },
    {
      "cell_type": "code",
      "source": [
        "#1.List-------> [] each element is separated with coma(,)\n",
        "#---> is orderes, changable(mutable),and it allows duplicates"
      ],
      "metadata": {
        "id": "h_1my7YkAQFE"
      },
      "execution_count": null,
      "outputs": []
    },
    {
      "cell_type": "code",
      "source": [
        "#it allows duplicates\n",
        "l1=[\"Apple\",\"Banana\",\"Cherries\",\"kiwi\",\"Watermelon\",\"lemon\",\"orange\",\"Apple\"]\n",
        "print(l1)\n",
        "print(type(l1))"
      ],
      "metadata": {
        "colab": {
          "base_uri": "https://localhost:8080/"
        },
        "id": "o3uDa9ogAjrg",
        "outputId": "c4948699-728c-4aa3-a75c-11cbaab6dd8e"
      },
      "execution_count": null,
      "outputs": [
        {
          "output_type": "stream",
          "name": "stdout",
          "text": [
            "['Apple', 'Banana', 'Cherries', 'kiwi', 'Watermelon', 'lemon', 'orange', 'Apple']\n",
            "<class 'list'>\n"
          ]
        }
      ]
    },
    {
      "cell_type": "code",
      "source": [
        "#write program and prove me that list can allow the duplicates?"
      ],
      "metadata": {
        "id": "7iSWAB5YA_S9"
      },
      "execution_count": null,
      "outputs": []
    },
    {
      "cell_type": "code",
      "source": [
        "#list is ordered.\n",
        "\"\"\" ordered :- the elements or value in the list is having a specific index position number.\n",
        "Based in this position number we are accessing the data.\"\"\"\n"
      ],
      "metadata": {
        "id": "d-VSuFxkBM46"
      },
      "execution_count": null,
      "outputs": []
    },
    {
      "cell_type": "code",
      "source": [
        "#how we can access the data in list?\n",
        "#we can access it by using the slicing operator---> and index position numbers"
      ],
      "metadata": {
        "id": "lYja_R35Ccsn"
      },
      "execution_count": null,
      "outputs": []
    },
    {
      "cell_type": "code",
      "source": [
        "l2=[\"Apple\",\"Banana\",\"cherries\",\"kiwi\",\"watermelon\",\"lemon\",\"orange\"]\n",
        "#what is the length of this list?\n",
        "print(len(l2))"
      ],
      "metadata": {
        "colab": {
          "base_uri": "https://localhost:8080/"
        },
        "id": "xdyMlUgOCqEX",
        "outputId": "21cbb2b4-3da9-4000-fd35-f1b96f86fb59"
      },
      "execution_count": null,
      "outputs": [
        {
          "output_type": "stream",
          "name": "stdout",
          "text": [
            "7\n"
          ]
        }
      ]
    },
    {
      "cell_type": "code",
      "source": [
        "#print or access apple from above list?\n",
        "print(l2[0])\n",
        "#print or access watermelon from above list?\n",
        "print(l2[4])"
      ],
      "metadata": {
        "colab": {
          "base_uri": "https://localhost:8080/"
        },
        "id": "dDFngRXcC6o8",
        "outputId": "a417f41b-0851-4d57-c4b4-683f881101a8"
      },
      "execution_count": null,
      "outputs": [
        {
          "output_type": "stream",
          "name": "stdout",
          "text": [
            "Apple\n",
            "watermelon\n"
          ]
        }
      ]
    },
    {
      "cell_type": "code",
      "source": [
        "#print the range of items \"cherries\",\"kiwi\",\"watermelon\",\"lemon\"?\n",
        "#[start:end]\n",
        "print(l2[2:6])"
      ],
      "metadata": {
        "colab": {
          "base_uri": "https://localhost:8080/"
        },
        "id": "ckfAnHCODXmM",
        "outputId": "086e24c9-65b5-4c03-f425-545629663ca0"
      },
      "execution_count": null,
      "outputs": [
        {
          "output_type": "stream",
          "name": "stdout",
          "text": [
            "['cherries', 'kiwi', 'watermelon', 'lemon']\n"
          ]
        }
      ]
    },
    {
      "cell_type": "code",
      "source": [
        "#use the negative index and print the range of items?\n",
        "l2=[\"Apple\",\"Banana\",\"Cherries\",\"kiwi\",\"Watermelon\",\"Lemon\",\"Orange\"]\n",
        "print(l2[-3])"
      ],
      "metadata": {
        "colab": {
          "base_uri": "https://localhost:8080/"
        },
        "id": "1fiT8RarD8rr",
        "outputId": "dfb83833-e902-48cb-a900-00cac3293c2e"
      },
      "execution_count": null,
      "outputs": [
        {
          "output_type": "stream",
          "name": "stdout",
          "text": [
            "Watermelon\n"
          ]
        }
      ]
    },
    {
      "cell_type": "code",
      "source": [
        "#watermelon ,\"Kiwi\",\"Cherries\"\n",
        "print(l2[-3:-6:-2])"
      ],
      "metadata": {
        "colab": {
          "base_uri": "https://localhost:8080/"
        },
        "id": "l55iHPh4LY5e",
        "outputId": "97b1e31c-4946-4c1f-e25c-0881620fe168"
      },
      "execution_count": null,
      "outputs": [
        {
          "output_type": "stream",
          "name": "stdout",
          "text": [
            "['Watermelon', 'Cherries']\n"
          ]
        }
      ]
    },
    {
      "cell_type": "code",
      "source": [
        "#print the list of even position elements?\n",
        "print(l2[::-2])"
      ],
      "metadata": {
        "colab": {
          "base_uri": "https://localhost:8080/"
        },
        "id": "MWJl68eXLnJw",
        "outputId": "e6b97dfe-c819-4df5-e075-81f31223e625"
      },
      "execution_count": null,
      "outputs": [
        {
          "output_type": "stream",
          "name": "stdout",
          "text": [
            "['Orange', 'Watermelon', 'Cherries', 'Apple']\n"
          ]
        }
      ]
    },
    {
      "cell_type": "code",
      "source": [
        "#reverse the entire list?\n",
        "print(l2[::-1])"
      ],
      "metadata": {
        "colab": {
          "base_uri": "https://localhost:8080/"
        },
        "id": "ZBjq1y_qMntP",
        "outputId": "dd037630-5608-43fa-ab97-ad10a58be3e6"
      },
      "execution_count": null,
      "outputs": [
        {
          "output_type": "stream",
          "name": "stdout",
          "text": [
            "['Orange', 'Lemon', 'Watermelon', 'kiwi', 'Cherries', 'Banana', 'Apple']\n"
          ]
        }
      ]
    },
    {
      "cell_type": "code",
      "source": [
        "#can we convert a list into string.\n",
        "#write a program to convert the list into string\n",
        "l3=[\"Apple\",\"cherries\",\"watermelon\",\"orange\"]\n",
        "#using loops\n",
        "for x in l3:\n",
        "  print(x,end=\" \") #end:-when you don't need output in each line then you use \"end=\"\n",
        "  #print(type(x))"
      ],
      "metadata": {
        "colab": {
          "base_uri": "https://localhost:8080/"
        },
        "id": "AyF14S0uL17l",
        "outputId": "29bdc014-e5bd-4f07-ea24-59b32fb56ea9"
      },
      "execution_count": null,
      "outputs": [
        {
          "output_type": "stream",
          "name": "stdout",
          "text": [
            "Apple cherries watermelon orange "
          ]
        }
      ]
    },
    {
      "cell_type": "code",
      "source": [
        "#list mutable or changable:-\n",
        "#how can you define a collection is mutable?\n",
        "#it can be defined in three ways\n",
        "#change-->replace---> A--->B------->swap the values\n",
        "#ADD the items into the list\n",
        "#deleting the items in the list"
      ],
      "metadata": {
        "id": "E0Awrx88OFEj"
      },
      "execution_count": null,
      "outputs": []
    },
    {
      "cell_type": "code",
      "source": [
        "#change -->replace--> items in list--->replace in list can be done with the help of index position numbers.\n",
        "l4=['orange','lemon','watermelon','kiwi','cherries','banana','Apple']\n",
        "l4[3]='strawberry'\n",
        "print(l4)"
      ],
      "metadata": {
        "colab": {
          "base_uri": "https://localhost:8080/"
        },
        "id": "6B5Oj3tMh_oP",
        "outputId": "9038d436-0fa1-468d-f45d-93d14bf2c20b"
      },
      "execution_count": null,
      "outputs": [
        {
          "output_type": "stream",
          "name": "stdout",
          "text": [
            "['orange', 'lemon', 'watermelon', 'strawberry', 'cherries', 'banana', 'Apple']\n"
          ]
        }
      ]
    },
    {
      "cell_type": "code",
      "source": [
        "#if i want to replace the range of items in the list\n",
        "l4[0:3] = \"mango\",\"pineapple\",\"grapes\"\n",
        "print(l4)"
      ],
      "metadata": {
        "colab": {
          "base_uri": "https://localhost:8080/"
        },
        "id": "R_MeKSMuigzu",
        "outputId": "869be7da-00cb-485b-8675-709ba8d74dc7"
      },
      "execution_count": null,
      "outputs": [
        {
          "output_type": "stream",
          "name": "stdout",
          "text": [
            "['mango', 'pineapple', 'grapes', 'strawberry', 'cherries', 'banana', 'Apple']\n"
          ]
        }
      ]
    },
    {
      "cell_type": "code",
      "source": [
        "l4[0:4]=\"chashew\",\"dry grapes\"    #it is accepetable inlist your replace  index position with items irrespective of numbr position\n",
        "print(l4)"
      ],
      "metadata": {
        "colab": {
          "base_uri": "https://localhost:8080/"
        },
        "id": "w2X6Ca5JjKRd",
        "outputId": "a4964caa-79a0-4fd9-f39d-886c4707169b"
      },
      "execution_count": null,
      "outputs": [
        {
          "output_type": "stream",
          "name": "stdout",
          "text": [
            "['chashew', 'dry grapes', 'cherries', 'banana', 'Apple']\n"
          ]
        }
      ]
    },
    {
      "cell_type": "code",
      "source": [
        "#ADD the items into the list\n",
        "#Append() by default it will add the items in the list in end positiom\n",
        "l5=['Apple','Cherries','watermelon','orange']\n",
        "l5.append(\"muskmelon\")\n",
        "print(l5)"
      ],
      "metadata": {
        "colab": {
          "base_uri": "https://localhost:8080/"
        },
        "id": "RhE0sdxSjgcC",
        "outputId": "371a3ba7-94b4-4870-960e-755b468a5d4e"
      },
      "execution_count": null,
      "outputs": [
        {
          "output_type": "stream",
          "name": "stdout",
          "text": [
            "['Apple', 'Cherries', 'watermelon', 'orange', 'muskmelon']\n"
          ]
        }
      ]
    },
    {
      "cell_type": "code",
      "source": [
        "#if i want to add the element in particular index position.\n",
        "#insert(index,'new item name')\n",
        "l5.insert(3,'lemon')#note you cannot insert multiple values into the list\n",
        "print(l5)"
      ],
      "metadata": {
        "colab": {
          "base_uri": "https://localhost:8080/"
        },
        "id": "SCaIH7Tne75N",
        "outputId": "9229dd6e-4c7f-431f-9e4a-85bf3b7fd214"
      },
      "execution_count": null,
      "outputs": [
        {
          "output_type": "stream",
          "name": "stdout",
          "text": [
            "['Apple', 'Cherries', 'watermelon', 'lemon', 'orange', 'muskmelon']\n"
          ]
        }
      ]
    },
    {
      "cell_type": "code",
      "source": [
        "#extend :-\n",
        "l=[10,20,30,40]\n",
        "l2=['Apple', 'Cherries', 'lemon','watermelon', 'lemon', 'orange', 'muskmelon']\n",
        "#here when you give the 1st collection name the another collection elements is going to add in 1st collection.\n",
        "l2.append(l)\n",
        "print(l2)\n",
        "print(len(l2))"
      ],
      "metadata": {
        "id": "UGp5GRMHgNxa",
        "colab": {
          "base_uri": "https://localhost:8080/"
        },
        "outputId": "8023781b-41bc-4839-e7ca-db53aecf0ea5"
      },
      "execution_count": null,
      "outputs": [
        {
          "output_type": "stream",
          "name": "stdout",
          "text": [
            "['Apple', 'Cherries', 'lemon', 'watermelon', 'lemon', 'orange', 'muskmelon', [10, 20, 30, 40]]\n",
            "8\n"
          ]
        }
      ]
    },
    {
      "cell_type": "code",
      "source": [
        "#extend :-\n",
        "l=[10,20,30,40]\n",
        "l2=['Apple', 'Cherries', 'lemon','watermelon', 'lemon', 'orange', 'muskmelon']\n",
        "l2.extend(l)\n",
        "print(l2)\n",
        "print(len(l2))\n"
      ],
      "metadata": {
        "colab": {
          "base_uri": "https://localhost:8080/"
        },
        "id": "uTixAgCBTyQA",
        "outputId": "89220a75-8efd-4304-e467-dc8a7cea792e"
      },
      "execution_count": null,
      "outputs": [
        {
          "output_type": "stream",
          "name": "stdout",
          "text": [
            "['Apple', 'Cherries', 'lemon', 'watermelon', 'lemon', 'orange', 'muskmelon', 10, 20, 30, 40]\n",
            "11\n"
          ]
        }
      ]
    },
    {
      "cell_type": "code",
      "source": [
        "l3=['apple','cherries','lemon','lemon']#--->apple,cherries,[10,20],lemon,lemon\n",
        "l4=[10,20]\n",
        "#write a program to add the elements to 13 at 2nd index position?\n",
        "l3.insert(2,l4)\n",
        "print(l3)"
      ],
      "metadata": {
        "colab": {
          "base_uri": "https://localhost:8080/"
        },
        "id": "BGlCUPW_SAyg",
        "outputId": "3526fdcb-5695-462f-89c8-1fc39bb2ea3b"
      },
      "execution_count": null,
      "outputs": [
        {
          "output_type": "stream",
          "name": "stdout",
          "text": [
            "['apple', 'cherries', [10, 20], 'lemon', 'lemon']\n"
          ]
        }
      ]
    },
    {
      "cell_type": "markdown",
      "source": [
        "**delete or remove**"
      ],
      "metadata": {
        "id": "MewbQpHAViCf"
      }
    },
    {
      "cell_type": "code",
      "source": [
        "#delete\n",
        "l5=['apple', 'cherries', [10, 20], 'lemon', 'lemon']\n",
        "#delete cherries\n",
        "l5.remove(\"cherries\")\n",
        "print(l5)"
      ],
      "metadata": {
        "colab": {
          "base_uri": "https://localhost:8080/"
        },
        "id": "0SywBu2cSphM",
        "outputId": "4c5679b6-23ca-43b0-8da3-8090ca4bc51d"
      },
      "execution_count": null,
      "outputs": [
        {
          "output_type": "stream",
          "name": "stdout",
          "text": [
            "['apple', [10, 20], 'lemon', 'lemon']\n"
          ]
        }
      ]
    },
    {
      "cell_type": "code",
      "source": [
        "#pop\n",
        "l5=['apple', [10, 20], 'lemon', 'lemon']\n",
        "l5.pop()"
      ],
      "metadata": {
        "colab": {
          "base_uri": "https://localhost:8080/",
          "height": 36
        },
        "id": "DMkFmTuIV8OR",
        "outputId": "ef294755-e5c9-4e88-d5e7-71c295981cd8"
      },
      "execution_count": null,
      "outputs": [
        {
          "output_type": "execute_result",
          "data": {
            "text/plain": [
              "'lemon'"
            ],
            "application/vnd.google.colaboratory.intrinsic+json": {
              "type": "string"
            }
          },
          "metadata": {},
          "execution_count": 25
        }
      ]
    },
    {
      "cell_type": "code",
      "source": [
        "print(l5)"
      ],
      "metadata": {
        "colab": {
          "base_uri": "https://localhost:8080/"
        },
        "id": "5VJFZlmtW1Fv",
        "outputId": "1f0815ce-6279-4f1d-d010-d1bec7a5eda1"
      },
      "execution_count": null,
      "outputs": [
        {
          "output_type": "stream",
          "name": "stdout",
          "text": [
            "['apple', [10, 20], 'lemon']\n"
          ]
        }
      ]
    },
    {
      "cell_type": "code",
      "source": [
        "l5.pop(1)"
      ],
      "metadata": {
        "colab": {
          "base_uri": "https://localhost:8080/"
        },
        "id": "GjNcHJ_XW4XH",
        "outputId": "5681fbd7-4247-4dd4-cd38-71f1333c1e73"
      },
      "execution_count": null,
      "outputs": [
        {
          "output_type": "execute_result",
          "data": {
            "text/plain": [
              "[10, 20]"
            ]
          },
          "metadata": {},
          "execution_count": 27
        }
      ]
    },
    {
      "cell_type": "code",
      "source": [
        "print(l5)"
      ],
      "metadata": {
        "colab": {
          "base_uri": "https://localhost:8080/"
        },
        "id": "riPus5EYXfOm",
        "outputId": "d8622ce6-3e82-407c-fb5b-e7f4df20e17d"
      },
      "execution_count": null,
      "outputs": [
        {
          "output_type": "stream",
          "name": "stdout",
          "text": [
            "['apple', 'lemon']\n"
          ]
        }
      ]
    },
    {
      "cell_type": "code",
      "source": [
        "#delete\n",
        "l6=['Apple', 'Cherries', 'lemon', 'watermelon', 'lemon', 'orange', 'muskmelon', [10, 20, 30, 40]]\n",
        "#write a program to delete range of items in the above collection\n",
        "#[2:5]\n",
        "del l6[2:5]\n",
        "print(l6)"
      ],
      "metadata": {
        "colab": {
          "base_uri": "https://localhost:8080/"
        },
        "id": "40Oa4EqKXiCn",
        "outputId": "c724be8b-db28-4945-a110-022bdcbd7e31"
      },
      "execution_count": null,
      "outputs": [
        {
          "output_type": "stream",
          "name": "stdout",
          "text": [
            "['Apple', 'Cherries', 'orange', 'muskmelon', [10, 20, 30, 40]]\n"
          ]
        }
      ]
    },
    {
      "cell_type": "code",
      "source": [
        "del l6[2:5]\n",
        "print(l6)"
      ],
      "metadata": {
        "colab": {
          "base_uri": "https://localhost:8080/"
        },
        "id": "Fiq917EmYU9M",
        "outputId": "1cc78434-571d-4629-e20c-104bd2e996f4"
      },
      "execution_count": null,
      "outputs": [
        {
          "output_type": "stream",
          "name": "stdout",
          "text": [
            "['Apple', 'Cherries']\n"
          ]
        }
      ]
    },
    {
      "cell_type": "code",
      "source": [
        "del l6 #this will delete entire collection\n"
      ],
      "metadata": {
        "id": "yNPrFBlyZhg_"
      },
      "execution_count": null,
      "outputs": []
    },
    {
      "cell_type": "code",
      "source": [
        "l=[10,20,30,40]\n",
        "l2=['Apple', 'Cherries', 'lemon','watermelon', 'lemon', 'orange', 'muskmelon']\n",
        "l2.update(l)\n",
        "print(l2)\n",
        "print(len(l2))\n",
        "#Note:- \"update()\" is not present in the collection so you will rise attribute error."
      ],
      "metadata": {
        "id": "C3751w17Zweq"
      },
      "execution_count": null,
      "outputs": []
    },
    {
      "cell_type": "code",
      "source": [
        "#sorting can be done based on \"ascii\" number\n",
        "#ASCII = American standard code for information inter change.\n"
      ],
      "metadata": {
        "id": "_PsGIiM9aQNk"
      },
      "execution_count": null,
      "outputs": []
    },
    {
      "cell_type": "code",
      "source": [
        "l2=['mango','Apple','pineapple','grape','kiwi','watermelon']\n",
        "#insert \"apple\" in index position number \"1\"\n",
        "l2.insert(1,'apple')\n",
        "print(l2)"
      ],
      "metadata": {
        "colab": {
          "base_uri": "https://localhost:8080/"
        },
        "id": "qIQ_wp3Qa_GY",
        "outputId": "ac848988-46f2-41db-da57-24b469b93aed"
      },
      "execution_count": null,
      "outputs": [
        {
          "output_type": "stream",
          "name": "stdout",
          "text": [
            "['mango', 'apple', 'Apple', 'pineapple', 'grape', 'kiwi', 'watermelon']\n"
          ]
        }
      ]
    },
    {
      "cell_type": "code",
      "source": [
        "#sort\n",
        "l3=['mango', 'apple', 'Apple', 'pineapple', 'grape', 'kiwi', 'watermelon']\n",
        "l3.sort()   #default is ascending order(lower to higher...A asciivalue is 65,)\n",
        "print(l3)"
      ],
      "metadata": {
        "colab": {
          "base_uri": "https://localhost:8080/"
        },
        "id": "5q5ANWcDb6q_",
        "outputId": "1b3b0819-2e66-4918-8a1b-454b7634bff4"
      },
      "execution_count": null,
      "outputs": [
        {
          "output_type": "stream",
          "name": "stdout",
          "text": [
            "['Apple', 'apple', 'grape', 'kiwi', 'mango', 'pineapple', 'watermelon']\n"
          ]
        }
      ]
    },
    {
      "cell_type": "code",
      "source": [
        "#sort above list in descending order\n",
        "l2.sort(reverse=True)\n",
        "print(l2)"
      ],
      "metadata": {
        "colab": {
          "base_uri": "https://localhost:8080/"
        },
        "id": "ZYi5_rMmcOGJ",
        "outputId": "00783007-5ac2-448a-f86c-25fead7939a0"
      },
      "execution_count": null,
      "outputs": [
        {
          "output_type": "stream",
          "name": "stdout",
          "text": [
            "['watermelon', 'pineapple', 'mango', 'kiwi', 'grape', 'apple', 'Apple']\n"
          ]
        }
      ]
    },
    {
      "cell_type": "code",
      "source": [
        "#sort th above collection without case sensitivity\n",
        "l2.sort(key=str.lower)\n",
        "print(l2)"
      ],
      "metadata": {
        "colab": {
          "base_uri": "https://localhost:8080/"
        },
        "id": "ZbLmoa65colr",
        "outputId": "c04cb3d2-d170-4f97-d7f1-4e2bbc49b1db"
      },
      "execution_count": null,
      "outputs": [
        {
          "output_type": "stream",
          "name": "stdout",
          "text": [
            "['apple', 'Apple', 'grape', 'kiwi', 'mango', 'pineapple', 'watermelon']\n"
          ]
        }
      ]
    },
    {
      "cell_type": "code",
      "source": [
        "l=['watermelon', 'pineapple', 'mango', 'kiwi', 'grape', 'apple', 'Apple']\n",
        "l[0:4:3]='mango','watermelon'\n",
        "print(l)"
      ],
      "metadata": {
        "colab": {
          "base_uri": "https://localhost:8080/"
        },
        "id": "KkuHLwpGdHBz",
        "outputId": "2574440a-29e9-43d8-9aa9-909365a0fecf"
      },
      "execution_count": null,
      "outputs": [
        {
          "output_type": "stream",
          "name": "stdout",
          "text": [
            "['mango', 'pineapple', 'mango', 'watermelon', 'grape', 'apple', 'Apple']\n"
          ]
        }
      ]
    },
    {
      "cell_type": "markdown",
      "source": [
        "#Fibonocci Series"
      ],
      "metadata": {
        "id": "v5beZkBDy6rX"
      }
    },
    {
      "cell_type": "code",
      "source": [
        "a=1\n",
        "b=0\n",
        "for i in range(9):\n",
        "  c=a+b\n",
        "  a=b\n",
        "  b=c\n",
        "  print(c)"
      ],
      "metadata": {
        "colab": {
          "base_uri": "https://localhost:8080/"
        },
        "id": "WYw-_eRsy_TO",
        "outputId": "e0b0917a-41f9-4baf-830b-e04008068985"
      },
      "execution_count": null,
      "outputs": [
        {
          "output_type": "stream",
          "name": "stdout",
          "text": [
            "1\n",
            "1\n",
            "2\n",
            "3\n",
            "5\n",
            "8\n",
            "13\n",
            "21\n",
            "34\n"
          ]
        }
      ]
    },
    {
      "cell_type": "markdown",
      "source": [
        "#tuple"
      ],
      "metadata": {
        "id": "f1A4XpPgfd5j"
      }
    },
    {
      "cell_type": "code",
      "source": [
        "#Tuple:---> ()\n",
        "#ordered,immutable(unchangable),it allows duplicates"
      ],
      "metadata": {
        "id": "pO8o7vNqfUxe"
      },
      "execution_count": null,
      "outputs": []
    },
    {
      "cell_type": "code",
      "source": [
        "#tuple allow duplicates\n",
        "t1=('apple', 'Apple', 'grape', 'kiwi', 'mango', 'pineapple', 'watermelon')\n",
        "print(t1)\n",
        "print(len(t1))\n",
        "print(type(t1))"
      ],
      "metadata": {
        "colab": {
          "base_uri": "https://localhost:8080/"
        },
        "id": "JWzkqycuf-66",
        "outputId": "aeab0126-0140-4ca1-f3de-31c0fa787e84"
      },
      "execution_count": null,
      "outputs": [
        {
          "output_type": "stream",
          "name": "stdout",
          "text": [
            "('apple', 'Apple', 'grape', 'kiwi', 'mango', 'pineapple', 'watermelon')\n",
            "7\n",
            "<class 'tuple'>\n"
          ]
        }
      ]
    },
    {
      "cell_type": "code",
      "source": [
        "#ordered---accessing or displaying specific data by using index position numbers.\n",
        "#each element in the collections is having it's indexing position number.\n",
        "#[start]\n",
        "t1=('apple', 'Apple', 'grape', 'kiwi', 'mango', 'pineapple', 'watermelon')\n",
        "#i want only mango from above collection\n",
        "print(t1[4])\n"
      ],
      "metadata": {
        "colab": {
          "base_uri": "https://localhost:8080/"
        },
        "id": "QYLF5EGFgVKy",
        "outputId": "a2433ae0-0b03-474c-ad3f-105603eed1f9"
      },
      "execution_count": null,
      "outputs": [
        {
          "output_type": "stream",
          "name": "stdout",
          "text": [
            "mango\n"
          ]
        }
      ]
    },
    {
      "cell_type": "code",
      "source": [
        "#print the range of the elements in t1--->[3:5] print the 5th item also.\n",
        "t1=('apple', 'Apple', 'grape', 'kiwi', 'mango', 'pineapple', 'watermelon')\n",
        "print(t1[3:6])"
      ],
      "metadata": {
        "colab": {
          "base_uri": "https://localhost:8080/"
        },
        "id": "2MIi_blBhjs9",
        "outputId": "05c1b8c4-a4a7-48f8-e82e-ac1077c0853d"
      },
      "execution_count": null,
      "outputs": [
        {
          "output_type": "stream",
          "name": "stdout",
          "text": [
            "('kiwi', 'mango', 'pineapple')\n"
          ]
        }
      ]
    },
    {
      "cell_type": "code",
      "source": [
        "#print even position in above collection?\n",
        "t1=('apple', 'Apple', 'grape', 'kiwi', 'mango', 'pineapple', 'watermelon')\n",
        "print(t1[::2]) #start can be 0 and end can be len(t1) by default"
      ],
      "metadata": {
        "colab": {
          "base_uri": "https://localhost:8080/"
        },
        "id": "S6qlmv3piKGk",
        "outputId": "ac9d367c-2ca1-4976-a1f4-05a80b96812e"
      },
      "execution_count": null,
      "outputs": [
        {
          "output_type": "stream",
          "name": "stdout",
          "text": [
            "('apple', 'grape', 'mango', 'watermelon')\n"
          ]
        }
      ]
    },
    {
      "cell_type": "code",
      "source": [
        "#reverse the tuple\n",
        "print(t1[::-1])"
      ],
      "metadata": {
        "colab": {
          "base_uri": "https://localhost:8080/"
        },
        "id": "nb60oWTHibbO",
        "outputId": "69a24d8e-7e54-4e4b-8fd2-a9c782f6f7a7"
      },
      "execution_count": null,
      "outputs": [
        {
          "output_type": "stream",
          "name": "stdout",
          "text": [
            "('watermelon', 'pineapple', 'mango', 'kiwi', 'grape', 'Apple', 'apple')\n"
          ]
        }
      ]
    },
    {
      "cell_type": "code",
      "source": [
        "#immutable---->  can't change the tuples in the list\n",
        "t1=('apple', 'Apple', 'grape', 'kiwi', 'mango', 'pineapple', 'watermelon')\n",
        "t1[1]=\"orange\"\n",
        "print(t1)\n",
        "t1.pop()\n",
        "print(t1)\n",
        "#Note---> tuples are immutable so we can't add or delete items from tuple"
      ],
      "metadata": {
        "id": "sayljNPTlGMd"
      },
      "execution_count": null,
      "outputs": []
    },
    {
      "cell_type": "code",
      "source": [
        "print(dir(t1))\n",
        "#'count,'index'\n",
        "#t1.count()\n",
        "#t2.index()"
      ],
      "metadata": {
        "colab": {
          "base_uri": "https://localhost:8080/"
        },
        "id": "LmhBLCM2lh_X",
        "outputId": "da484755-3ba3-44e7-edb1-c1c9fea48a11"
      },
      "execution_count": null,
      "outputs": [
        {
          "output_type": "stream",
          "name": "stdout",
          "text": [
            "['__add__', '__class__', '__class_getitem__', '__contains__', '__delattr__', '__dir__', '__doc__', '__eq__', '__format__', '__ge__', '__getattribute__', '__getitem__', '__getnewargs__', '__gt__', '__hash__', '__init__', '__init_subclass__', '__iter__', '__le__', '__len__', '__lt__', '__mul__', '__ne__', '__new__', '__reduce__', '__reduce_ex__', '__repr__', '__rmul__', '__setattr__', '__sizeof__', '__str__', '__subclasshook__', 'count', 'index']\n"
          ]
        }
      ]
    },
    {
      "cell_type": "code",
      "source": [
        "print(t1.count(\"kiwi\"))\n",
        "print(t1.index(\"mango\"))"
      ],
      "metadata": {
        "colab": {
          "base_uri": "https://localhost:8080/"
        },
        "id": "-UKTZ8mYlmzq",
        "outputId": "8ee5c15b-3ec4-42fd-e121-8f6d0cfb8b99"
      },
      "execution_count": null,
      "outputs": [
        {
          "output_type": "stream",
          "name": "stdout",
          "text": [
            "1\n",
            "4\n"
          ]
        }
      ]
    },
    {
      "cell_type": "code",
      "source": [
        "#create a list by using tuple?\n"
      ],
      "metadata": {
        "id": "JDt51IuqnjX0"
      },
      "execution_count": null,
      "outputs": []
    },
    {
      "cell_type": "code",
      "source": [
        "#diff between list and tuple?\n",
        "#why tuples are faster than list?"
      ],
      "metadata": {
        "id": "1tdOUd2yoU7b"
      },
      "execution_count": null,
      "outputs": []
    },
    {
      "cell_type": "code",
      "source": [
        "t1=('apple', 'Apple', 'grape', 'kiwi', 'mango', 'pineapple', 'watermelon')\n",
        "print(type(t1))      #<'class tuple'>\n",
        "t_1=list(t1)\n",
        "print(t_1)      # ['apple', 'Apple', 'grape', 'kiwi', 'mango', 'pineapple', 'watermelon']\n",
        "print(type(t_1))  #<class 'list'>"
      ],
      "metadata": {
        "colab": {
          "base_uri": "https://localhost:8080/"
        },
        "id": "ULzyoHJMogix",
        "outputId": "3df301cd-f539-4234-e5b7-3b39ec5f22df"
      },
      "execution_count": null,
      "outputs": [
        {
          "output_type": "stream",
          "name": "stdout",
          "text": [
            "<class 'tuple'>\n",
            "['apple', 'Apple', 'grape', 'kiwi', 'mango', 'pineapple', 'watermelon']\n",
            "<class 'list'>\n"
          ]
        }
      ]
    },
    {
      "cell_type": "markdown",
      "source": [
        "#Set"
      ],
      "metadata": {
        "id": "jrTqNyaSEn4R"
      }
    },
    {
      "cell_type": "code",
      "source": [
        "#set ---> {}\n",
        "#set is unordered,immutable,it won't allow the duplicates.\n",
        "s1={1,3,4,5,7,1,2,3,4,5}\n",
        "print(s1)\n"
      ],
      "metadata": {
        "colab": {
          "base_uri": "https://localhost:8080/"
        },
        "id": "kr0JaMCfoxdU",
        "outputId": "a629ff83-d622-4ab7-a679-18cb5dc5eec9"
      },
      "execution_count": null,
      "outputs": [
        {
          "output_type": "stream",
          "name": "stdout",
          "text": [
            "{1, 2, 3, 4, 5, 7}\n"
          ]
        }
      ]
    },
    {
      "cell_type": "code",
      "source": [
        "#set is unordered----> we can't access elements from the sets why because it doesn't have index position number\n",
        "print(s1[0])   #output error"
      ],
      "metadata": {
        "id": "DFLPg0LZ132_"
      },
      "execution_count": null,
      "outputs": []
    },
    {
      "cell_type": "code",
      "source": [
        "#set are immutable\n",
        "#In sets we can able to add and delete the item/elements but we can replace the items/elements.\n",
        "# Why we can't swap or replace or change elements in sets?\n",
        "#sets doesn't have index position so we cannot replace the elements\n",
        "#where the elements in sets are storing?\n",
        "#elements are storing randomly in the sets."
      ],
      "metadata": {
        "id": "PxwndGisGuyj"
      },
      "execution_count": null,
      "outputs": []
    },
    {
      "cell_type": "code",
      "source": [
        "#Adding elements in sets.\n",
        "#what is the default index positions when you add elements/items in the sets.\n",
        "s1.add(9) #addmethod can take only one argument\n",
        "print(s1)"
      ],
      "metadata": {
        "colab": {
          "base_uri": "https://localhost:8080/"
        },
        "id": "b1y8HhkrIJh9",
        "outputId": "fa21d05a-b6c5-4e24-da8b-45cc7fe0e3b5"
      },
      "execution_count": null,
      "outputs": [
        {
          "output_type": "stream",
          "name": "stdout",
          "text": [
            "{1, 2, 3, 4, 5, 7, 9}\n"
          ]
        }
      ]
    },
    {
      "cell_type": "code",
      "source": [
        "#if i want to add multiple values or items in the set then?\n",
        "#update\n",
        "s3={10,11,12}\n",
        "s1.update(s3)\n",
        "print(s1)"
      ],
      "metadata": {
        "colab": {
          "base_uri": "https://localhost:8080/"
        },
        "id": "btbNlP62MG9p",
        "outputId": "8ced1d40-c744-46ec-b28d-aa83b1ad5857"
      },
      "execution_count": null,
      "outputs": [
        {
          "output_type": "stream",
          "name": "stdout",
          "text": [
            "{1, 2, 3, 4, 5, 7, 9, 10, 11, 12}\n"
          ]
        }
      ]
    },
    {
      "cell_type": "code",
      "source": [
        "s1.update(\"20\",\"30\",\"40\")\n",
        "print(s1)"
      ],
      "metadata": {
        "colab": {
          "base_uri": "https://localhost:8080/"
        },
        "id": "d87JooyGNEV-",
        "outputId": "6420cc85-3adf-498c-b3b9-8646255e2037"
      },
      "execution_count": null,
      "outputs": [
        {
          "output_type": "stream",
          "name": "stdout",
          "text": [
            "{1, 2, 3, 4, 5, '4', 7, 9, 10, 11, 12, '0', '3', '2'}\n"
          ]
        }
      ]
    },
    {
      "cell_type": "code",
      "source": [
        "#remove elements from set.\n",
        "s1.remove(1)\n",
        "print(s1)"
      ],
      "metadata": {
        "colab": {
          "base_uri": "https://localhost:8080/"
        },
        "id": "dHPPzPyGNMJT",
        "outputId": "fd4b3353-6359-4687-f400-2dc8eaf804c0"
      },
      "execution_count": null,
      "outputs": [
        {
          "output_type": "stream",
          "name": "stdout",
          "text": [
            "{2, 3, 4, 5, '4', 7, 9, 10, 11, 12, '0', '3', '2'}\n"
          ]
        }
      ]
    },
    {
      "cell_type": "code",
      "source": [
        "s1.remove('4')  #remove() takes exactly one argument\n",
        "print(s1)"
      ],
      "metadata": {
        "colab": {
          "base_uri": "https://localhost:8080/"
        },
        "id": "uVXe-8m0OE0f",
        "outputId": "9f8df059-d231-44fc-8059-61f14e468eab"
      },
      "execution_count": null,
      "outputs": [
        {
          "output_type": "stream",
          "name": "stdout",
          "text": [
            "{2, 3, 4, 5, 7, 9, 10, 11, 12, '0', '3', '2'}\n"
          ]
        }
      ]
    },
    {
      "cell_type": "code",
      "source": [
        "#discard      discard take exactly one argument\n",
        "s1.discard(2)\n",
        "print(s1)"
      ],
      "metadata": {
        "colab": {
          "base_uri": "https://localhost:8080/"
        },
        "id": "iwNbhnjXOK_O",
        "outputId": "7c00a978-2a60-4523-8c9d-c3bc51109dc7"
      },
      "execution_count": null,
      "outputs": [
        {
          "output_type": "stream",
          "name": "stdout",
          "text": [
            "{3, 4, 5, 7, 9, 10, 11, 12, '0', '3', '2'}\n"
          ]
        }
      ]
    },
    {
      "cell_type": "code",
      "source": [
        "#pop\n",
        "s1.pop()\n",
        "print(s1)\n",
        "\n",
        "#why we are not using pop methods in sets?\n",
        "#it removes the elements randomly."
      ],
      "metadata": {
        "colab": {
          "base_uri": "https://localhost:8080/"
        },
        "id": "0-GP9hJlOmaG",
        "outputId": "5153d7de-9b11-482e-d886-bfc51315e510"
      },
      "execution_count": null,
      "outputs": [
        {
          "output_type": "stream",
          "name": "stdout",
          "text": [
            "{4, 5, 7, 9, 10, 11, 12, '0', '3', '2'}\n"
          ]
        }
      ]
    },
    {
      "cell_type": "code",
      "source": [
        "#delete\n",
        "del s1\n"
      ],
      "metadata": {
        "id": "KT9hUR6kO-eQ"
      },
      "execution_count": null,
      "outputs": []
    },
    {
      "cell_type": "code",
      "source": [
        "#What is difference between discar and delete?\n",
        "#when we use discard if the item exists or not in the collections it  won't through any errors while execution\n",
        "s={2, 3, 4, 5, 7, 9, 10, 11, 12, '0', '3', '2'}\n",
        "s.discard(2)\n",
        "print(s)"
      ],
      "metadata": {
        "colab": {
          "base_uri": "https://localhost:8080/"
        },
        "id": "-eYCFleOPjj3",
        "outputId": "91fa1bd1-b323-4438-d395-d222a9f78249"
      },
      "execution_count": null,
      "outputs": [
        {
          "output_type": "stream",
          "name": "stdout",
          "text": [
            "{3, 4, 5, 7, 9, 10, 11, 12, '0', '3', '2'}\n"
          ]
        }
      ]
    },
    {
      "cell_type": "code",
      "source": [
        "#execute matrix operation by using two sets\n",
        "#union and intersection\n",
        "s5={\"a\",\"b\",\"c\",\"d\"}\n",
        "s6={\"d\",\"e\",\"f\",\"g\"}\n",
        "s_add=s5.union(s6)\n",
        "print(s_add)"
      ],
      "metadata": {
        "colab": {
          "base_uri": "https://localhost:8080/"
        },
        "id": "OP0pDqdNP5zm",
        "outputId": "54f73a42-cae0-4ff8-dac1-ffb5b849c6e7"
      },
      "execution_count": null,
      "outputs": [
        {
          "output_type": "stream",
          "name": "stdout",
          "text": [
            "{'b', 'f', 'a', 'c', 'e', 'g', 'd'}\n"
          ]
        }
      ]
    },
    {
      "cell_type": "code",
      "source": [
        "s_inter=s5.intersetion(s6)  #common elements will be printed\n",
        "print(s_inter)"
      ],
      "metadata": {
        "id": "UdZ1BMHPQ8ft"
      },
      "execution_count": null,
      "outputs": []
    },
    {
      "cell_type": "markdown",
      "source": [
        "#dictionary"
      ],
      "metadata": {
        "id": "GnKqJO0KzPiB"
      }
    },
    {
      "cell_type": "code",
      "source": [
        "#sets are faster than the list and tuple why?\n",
        "'''in sets we can able to add new elements but we can't replace elements in sets and the elements are stored randomly\n",
        "so elements/item in sets doesn't have indexing positions numbers.'''\n"
      ],
      "metadata": {
        "id": "Gsl-0UAWzPHe"
      },
      "execution_count": null,
      "outputs": []
    },
    {
      "cell_type": "code",
      "source": [
        "#how can you defined dictinoary?\n",
        "#dictionary --->{}\n",
        "#dictionary is an un-ordered,mutable,it won't allows to the duplicates.\n",
        "#where we can store items or values or data in dictonary?\n",
        "#we can store in \"key:values\" pairs."
      ],
      "metadata": {
        "id": "cuvfKmyNRNip"
      },
      "execution_count": null,
      "outputs": []
    },
    {
      "cell_type": "code",
      "source": [
        "#proof: it won't allows to the duplicates.\n",
        "d1 ={\n",
        "    \"Name\" : \" Vaishu\",\n",
        "    \"Age\" : 21,\n",
        "    \"Education\" : \" Btech\", #it allows only one educations\n",
        "    \"Education\" : \"Inter\"\n",
        "}\n",
        "print(d1)"
      ],
      "metadata": {
        "colab": {
          "base_uri": "https://localhost:8080/"
        },
        "id": "cssyBlNG1itu",
        "outputId": "b283a3e6-efaa-4007-8e76-cf9ac2f7e182"
      },
      "execution_count": null,
      "outputs": [
        {
          "output_type": "stream",
          "name": "stdout",
          "text": [
            "{'Name': ' Vaishu', 'Age': 21, 'Education': 'Inter'}\n"
          ]
        }
      ]
    },
    {
      "cell_type": "code",
      "source": [
        "#Dictionary is unorederd -----> \"key:value\" pairs doesn't have index position numbers.\n",
        "d2 ={\n",
        "    \"Name\" : \" Vaishu\",\n",
        "    \"Age\" : 21,\n",
        "    \"Education\" : \" Btech\",\n",
        "    \"Education\" : \"Inter\",\n",
        "    \"fruits\" : ['apple','banana','kiwi','cherries']\n",
        "}\n",
        "#how can we access in a dictionary?\n",
        "print(d2['fruits'])\n",
        "#we can access the elements in dictionary by using the key names."
      ],
      "metadata": {
        "colab": {
          "base_uri": "https://localhost:8080/"
        },
        "id": "GPCuvnuL2wOA",
        "outputId": "acf71c86-4119-46e8-9533-f42b0a38b309"
      },
      "execution_count": null,
      "outputs": [
        {
          "output_type": "stream",
          "name": "stdout",
          "text": [
            "['apple', 'banana', 'kiwi', 'cherries']\n"
          ]
        }
      ]
    },
    {
      "cell_type": "code",
      "source": [
        "print(len(d2))"
      ],
      "metadata": {
        "colab": {
          "base_uri": "https://localhost:8080/"
        },
        "id": "-a4XZXKh3YcO",
        "outputId": "f8886f7e-9feb-4c3e-def3-a804c7422ba1"
      },
      "execution_count": null,
      "outputs": [
        {
          "output_type": "stream",
          "name": "stdout",
          "text": [
            "4\n"
          ]
        }
      ]
    },
    {
      "cell_type": "code",
      "source": [
        "#print only education.\n",
        "print(d2['Education'])"
      ],
      "metadata": {
        "colab": {
          "base_uri": "https://localhost:8080/"
        },
        "id": "KsXTPJ114ohD",
        "outputId": "4edf4f7e-9de6-4f3c-ec8a-919b383c276d"
      },
      "execution_count": null,
      "outputs": [
        {
          "output_type": "stream",
          "name": "stdout",
          "text": [
            "Inter\n"
          ]
        }
      ]
    },
    {
      "cell_type": "code",
      "source": [
        "d2 ={\n",
        "    \"Name\" : \" Vaishu\",\n",
        "    \"Age\" : 21,\n",
        "    \"Education\" : \" Btech\",\n",
        "    \"Education\" : \"Inter\",\n",
        "    \"fruits\" : ['apple','banana','kiwi','cherries']\n",
        "}\n",
        "#in the above dictionary print or access \"apple\"?\n",
        "print(d2['fruits'][0])"
      ],
      "metadata": {
        "colab": {
          "base_uri": "https://localhost:8080/"
        },
        "id": "NN-1oBzi41R7",
        "outputId": "c05ece9a-f6b3-4b4c-e214-a31bce4d77f9"
      },
      "execution_count": null,
      "outputs": [
        {
          "output_type": "stream",
          "name": "stdout",
          "text": [
            "apple\n"
          ]
        }
      ]
    },
    {
      "cell_type": "code",
      "source": [
        "#print \"banana\" and \"kiwi\"\n",
        "print(d2[\"fruits\"][1:3])"
      ],
      "metadata": {
        "colab": {
          "base_uri": "https://localhost:8080/"
        },
        "id": "t1yFK4VZ5PVT",
        "outputId": "600b1c42-f8c9-4e22-e466-9639078eb766"
      },
      "execution_count": null,
      "outputs": [
        {
          "output_type": "stream",
          "name": "stdout",
          "text": [
            "['banana', 'kiwi']\n"
          ]
        }
      ]
    },
    {
      "cell_type": "markdown",
      "source": [
        "**Replace**\n",
        "\n",
        "\n",
        "**ADD new key:value**"
      ],
      "metadata": {
        "id": "SwTC1mhW5wpW"
      }
    },
    {
      "cell_type": "code",
      "source": [
        "#replace   dic1['key_name'] = 'name'\n",
        "d2 ={\n",
        "    \"Name\" : \" Vaishu\",\n",
        "    \"Age\" : 21,\n",
        "    \"Education\" : \" Btech\",\n",
        "    \"Education\" : \"Inter\",\n",
        "    \"fruits\" : ['apple','banana','kiwi','cherries']\n",
        "}\n",
        "#how can you replace values in dictionary?\n",
        "d2['Name'] = 'srilatha'\n",
        "print(d2)"
      ],
      "metadata": {
        "colab": {
          "base_uri": "https://localhost:8080/"
        },
        "id": "627Umcl85gx1",
        "outputId": "23d37dab-908c-4223-fda1-e24840cf5b51"
      },
      "execution_count": null,
      "outputs": [
        {
          "output_type": "stream",
          "name": "stdout",
          "text": [
            "{'Name': 'srilatha', 'Age': 21, 'Education': 'Inter', 'fruits': ['apple', 'banana', 'kiwi', 'cherries']}\n"
          ]
        }
      ]
    },
    {
      "cell_type": "code",
      "source": [
        "#how to add new elements in to dictionary?\n",
        "d2['car'] = 'kia'\n",
        "print(d2)\n",
        "'''Note:- when we are replacing the values or adding ne key:value pair.If the key exist in dictionary the value can be replaced\n",
        "else if the key doesn't exist new key:value pairs can be added '''"
      ],
      "metadata": {
        "colab": {
          "base_uri": "https://localhost:8080/"
        },
        "id": "a5kvRBJU6VGl",
        "outputId": "2a57401c-4e0f-4138-c568-f05f24224edc"
      },
      "execution_count": null,
      "outputs": [
        {
          "output_type": "stream",
          "name": "stdout",
          "text": [
            "{'Name': 'srilatha', 'Age': 21, 'Education': 'Inter', 'fruits': ['apple', 'banana', 'kiwi', 'cherries'], 'car': 'kia'}\n"
          ]
        }
      ]
    },
    {
      "cell_type": "markdown",
      "source": [
        "**delete items in dictionary"
      ],
      "metadata": {
        "id": "yNq2TIdg7ZUn"
      }
    },
    {
      "cell_type": "code",
      "source": [
        "#1.pop()\n",
        "d2 ={\n",
        "    \"Name\" : \" Vaishu\",\n",
        "    \"Age\" : 21,\n",
        "    \"Education\" : \" Btech\",\n",
        "    \"Education\" : \"Inter\",\n",
        "    \"fruits\" : ['apple','banana','kiwi','cherries']\n",
        "}\n",
        "d2.pop(\"fruits\") #pop expected atleast 1 argument,got 0 why because dictionary is unordered\n",
        "print(d2)"
      ],
      "metadata": {
        "colab": {
          "base_uri": "https://localhost:8080/"
        },
        "id": "oME9jTV86l0O",
        "outputId": "4553e067-8407-405b-a5df-7d17b3ebb977"
      },
      "execution_count": null,
      "outputs": [
        {
          "output_type": "stream",
          "name": "stdout",
          "text": [
            "{'Name': ' Vaishu', 'Age': 21, 'Education': 'Inter'}\n"
          ]
        }
      ]
    },
    {
      "cell_type": "code",
      "source": [
        "#add new items to fruits in the d2 dictionary \"orange\" replace it in 1st index position\n",
        "d2 ={\n",
        "    \"Name\" : \" Vaishu\",\n",
        "    \"Age\" : 21,\n",
        "    \"Education\" : \" Btech\",\n",
        "    \"Education\" : \"Inter\",\n",
        "    \"fruits\" : ['apple','banana','kiwi','cherries']\n",
        "}\n",
        "d2['fruits'][1] = \"orange\"\n",
        "print(d2)"
      ],
      "metadata": {
        "colab": {
          "base_uri": "https://localhost:8080/"
        },
        "id": "ywPhlCbM8FiI",
        "outputId": "faac8e08-5715-4d51-afc5-c95f742bf56d"
      },
      "execution_count": null,
      "outputs": [
        {
          "output_type": "stream",
          "name": "stdout",
          "text": [
            "{'Name': ' Vaishu', 'Age': 21, 'Education': 'Inter', 'fruits': ['apple', 'orange', 'kiwi', 'cherries']}\n"
          ]
        }
      ]
    },
    {
      "cell_type": "code",
      "source": [
        "#how can we find methods for paticular functions?\n",
        "#use dir()\n",
        "print(dir(d2))"
      ],
      "metadata": {
        "colab": {
          "base_uri": "https://localhost:8080/"
        },
        "id": "5yrwA8rN8hlp",
        "outputId": "fe384861-7147-474f-d666-54b1d83b599f"
      },
      "execution_count": null,
      "outputs": [
        {
          "output_type": "stream",
          "name": "stdout",
          "text": [
            "['__class__', '__class_getitem__', '__contains__', '__delattr__', '__delitem__', '__dir__', '__doc__', '__eq__', '__format__', '__ge__', '__getattribute__', '__getitem__', '__gt__', '__hash__', '__init__', '__init_subclass__', '__ior__', '__iter__', '__le__', '__len__', '__lt__', '__ne__', '__new__', '__or__', '__reduce__', '__reduce_ex__', '__repr__', '__reversed__', '__ror__', '__setattr__', '__setitem__', '__sizeof__', '__str__', '__subclasshook__', 'clear', 'copy', 'fromkeys', 'get', 'items', 'keys', 'pop', 'popitem', 'setdefault', 'update', 'values']\n"
          ]
        }
      ]
    },
    {
      "cell_type": "code",
      "source": [
        "#add new item to fruits at index postion 2?\n",
        "d2['fruits'].insert(2,'lemon')\n",
        "print(d2)"
      ],
      "metadata": {
        "colab": {
          "base_uri": "https://localhost:8080/"
        },
        "id": "afW6j9xY9H97",
        "outputId": "1c2e1c9e-fb01-4c24-a6e9-0fce07b8c399"
      },
      "execution_count": null,
      "outputs": [
        {
          "output_type": "stream",
          "name": "stdout",
          "text": [
            "{'Name': ' Vaishu', 'Age': 21, 'Education': 'Inter', 'fruits': ['apple', 'orange', 'lemon', 'kiwi', 'cherries']}\n"
          ]
        }
      ]
    },
    {
      "cell_type": "code",
      "source": [
        "#use append method.add \"rse berry\" into fruits?\n",
        "d2['fruits'].append('rose berry')\n",
        "print(d2)"
      ],
      "metadata": {
        "colab": {
          "base_uri": "https://localhost:8080/"
        },
        "id": "D-dQiJHN9cvJ",
        "outputId": "4bb296c8-8858-4004-bf9b-9740f83a9a93"
      },
      "execution_count": null,
      "outputs": [
        {
          "output_type": "stream",
          "name": "stdout",
          "text": [
            "{'Name': ' Vaishu', 'Age': 21, 'Education': 'Inter', 'fruits': ['apple', 'orange', 'lemon', 'kiwi', 'cherries', 'rose berry']}\n"
          ]
        }
      ]
    },
    {
      "cell_type": "code",
      "source": [
        "d4 = {'Name': ' Vaishu',\n",
        "      'Age': 21,\n",
        "      'Education': 'Inter',\n",
        "      'fruits': ['apple', 'orange', 'lemon', 'kiwi', 'cherries', 'rose berry']\n",
        "      }\n",
        "#d4.pop('fruits')\n",
        "#print(d4)\n",
        "#delete\n",
        "#del d4['Age']\n",
        "#print(d4)\n",
        "#del d4['fruits'][1:3]       #use del to delete list of items in a list\n",
        "#print(d4)\n",
        "#d4.clear()\n",
        "#print(d4)\n",
        "del d4"
      ],
      "metadata": {
        "id": "mvhtyKaK95lr"
      },
      "execution_count": null,
      "outputs": []
    },
    {
      "cell_type": "code",
      "source": [
        "#try the same thing by using collections of sets\n",
        "d4 = {\n",
        "       'Name': ' Vaishu',\n",
        "      'Age': 21,\n",
        "      'Education': 'Inter',\n",
        "      'fruits': {'apple', 'orange', 'lemon', 'kiwi', 'cherries', 'rose berry'}\n",
        "      }\n",
        "#we cannot access the sets items.\n",
        "#add\n",
        "d4['fruits'].add('dry grapes')\n",
        "print(d4)"
      ],
      "metadata": {
        "colab": {
          "base_uri": "https://localhost:8080/"
        },
        "id": "GOxD9jyA-ZDp",
        "outputId": "77a7a3f5-afcc-4c47-aba0-91452dff3647"
      },
      "execution_count": null,
      "outputs": [
        {
          "output_type": "stream",
          "name": "stdout",
          "text": [
            "{'Name': ' Vaishu', 'Age': 21, 'Education': 'Inter', 'fruits': {'orange', 'apple', 'cherries', 'lemon', 'kiwi', 'dry grapes', 'rose berry'}}\n"
          ]
        }
      ]
    },
    {
      "cell_type": "code",
      "source": [
        "d4['fruits'].update('sri','raju','prasana')\n",
        "print(d4)"
      ],
      "metadata": {
        "colab": {
          "base_uri": "https://localhost:8080/"
        },
        "id": "EY5K7_w9_jSE",
        "outputId": "1eea24f5-fe0f-4b26-b3d3-42cbbe2033e7"
      },
      "execution_count": null,
      "outputs": [
        {
          "output_type": "stream",
          "name": "stdout",
          "text": [
            "{'Name': ' Vaishu', 'Age': 21, 'Education': 'Inter', 'fruits': {'u', 'apple', 'cherries', 'a', 'dry grapes', 'orange', 'r', 'i', 'kiwi', 's', 'rose berry', 'j', 'p', 'n', 'lemon'}}\n"
          ]
        }
      ]
    },
    {
      "cell_type": "code",
      "source": [
        "#print only keys from above dictionary?\n",
        "print(d4.keys())\n",
        "#print only values from dictionary?\n",
        "print(d4.values())\n",
        "#print items from dictionary\n",
        "print(d4.items())        #stored in the tuples"
      ],
      "metadata": {
        "colab": {
          "base_uri": "https://localhost:8080/"
        },
        "id": "awp34CR5Ds0T",
        "outputId": "787e91ee-df54-4363-cf41-e75bc1ff3694"
      },
      "execution_count": null,
      "outputs": [
        {
          "output_type": "stream",
          "name": "stdout",
          "text": [
            "dict_keys(['Name', 'Age', 'Education', 'fruits'])\n",
            "dict_values([' Vaishu', 21, 'Inter', {'u', 'apple', 'cherries', 'a', 'dry grapes', 'orange', 'r', 'i', 'kiwi', 's', 'rose berry', 'j', 'p', 'n', 'lemon'}])\n",
            "dict_items([('Name', ' Vaishu'), ('Age', 21), ('Education', 'Inter'), ('fruits', {'u', 'apple', 'cherries', 'a', 'dry grapes', 'orange', 'r', 'i', 'kiwi', 's', 'rose berry', 'j', 'p', 'n', 'lemon'})])\n"
          ]
        }
      ]
    },
    {
      "cell_type": "code",
      "source": [
        "d4 = {\n",
        "       'Name': ' Vaishu',\n",
        "      'Age': 21,\n",
        "      'Education': 'Inter',\n",
        "      'fruits': ['apple', 'orange', 'lemon', 'kiwi', 'cherries', 'rose berry']\n",
        "      }\n",
        "#print kwys in seperate line?\n",
        "for x in d4.keys():\n",
        "  print(x)\n",
        "#print values in seperate line?\n",
        "for y in d4.values():\n",
        "  print(y)\n",
        "#print both key:value pairs by using loops:\n"
      ],
      "metadata": {
        "colab": {
          "base_uri": "https://localhost:8080/"
        },
        "id": "cEz1YgvaEDoQ",
        "outputId": "9905560e-b294-41cb-8f49-e6d0f0bb5c9b"
      },
      "execution_count": null,
      "outputs": [
        {
          "output_type": "stream",
          "name": "stdout",
          "text": [
            "Name\n",
            "Age\n",
            "Education\n",
            "fruits\n",
            " Vaishu\n",
            "21\n",
            "Inter\n",
            "['apple', 'orange', 'lemon', 'kiwi', 'cherries', 'rose berry']\n"
          ]
        }
      ]
    },
    {
      "cell_type": "code",
      "source": [
        "for x in d4.items():\n",
        "  print(x)"
      ],
      "metadata": {
        "id": "F8g-2FABFEuR"
      },
      "execution_count": null,
      "outputs": []
    },
    {
      "cell_type": "code",
      "source": [
        "#print both key:value pairs by using loops?\n",
        "for z in d4.keys():\n",
        "  print(f'{z}:{d4[z]}')"
      ],
      "metadata": {
        "colab": {
          "base_uri": "https://localhost:8080/"
        },
        "id": "yxUXlA0XFn9s",
        "outputId": "7b9a1d6a-5f3a-459b-b1df-46b1c4142570"
      },
      "execution_count": null,
      "outputs": [
        {
          "output_type": "stream",
          "name": "stdout",
          "text": [
            "Name: Vaishu\n",
            "Age:21\n",
            "Education:Inter\n",
            "fruits:['apple', 'orange', 'lemon', 'kiwi', 'cherries', 'rose berry']\n"
          ]
        }
      ]
    },
    {
      "cell_type": "code",
      "source": [
        "#what is heterogenous data and what is homogenous data?\n",
        "#heterogenous--> if the collection is having different dtypes is know as heterogenous\n",
        "#homogenous--> collections is having saming dtypes"
      ],
      "metadata": {
        "id": "2otpws25F_K-"
      },
      "execution_count": null,
      "outputs": []
    },
    {
      "cell_type": "markdown",
      "source": [
        "#Functions"
      ],
      "metadata": {
        "id": "8p9s84Cx8rmo"
      }
    },
    {
      "cell_type": "code",
      "source": [
        "#what is a function?\n",
        "#A block of code which only run when it is called.\n",
        "print(\"hello\")\n",
        "print(len(\"hello\"))\n",
        "print(type(\"hello\"))"
      ],
      "metadata": {
        "id": "o4j23FV_8tfZ"
      },
      "execution_count": null,
      "outputs": []
    },
    {
      "cell_type": "code",
      "source": [
        "#how to create a function?\n",
        "#to create a function we need to use keyword \"def\"\n",
        "def f1():\n",
        "  print(\"hello\")\n",
        "  print(\"this is a running with a function\")\n",
        "  print(\"===================================\")\n",
        "\n",
        "#call the function\n",
        "f1()"
      ],
      "metadata": {
        "colab": {
          "base_uri": "https://localhost:8080/"
        },
        "id": "Gy7xCqly-8k3",
        "outputId": "adb08b4c-86da-4232-a72c-2a1bb7672350"
      },
      "execution_count": null,
      "outputs": [
        {
          "output_type": "stream",
          "name": "stdout",
          "text": [
            "hello\n",
            "this is a running with a function\n",
            "===================================\n"
          ]
        }
      ]
    },
    {
      "cell_type": "code",
      "source": [
        "#create a function in the name \"zenvius_welcome\"\n",
        "#print(\"hello good morning\")\n",
        "#print(\"this is your module 2\")\n",
        "#print(\"please practice the session\")\n",
        "def zenvius_welcome():\n",
        "  print(\"hello good morning\")\n",
        "  print(\"this is your module 2\")\n",
        "  print(\"please practice the session\")\n",
        "zenvius_welcome()"
      ],
      "metadata": {
        "colab": {
          "base_uri": "https://localhost:8080/"
        },
        "id": "Y94dJ2rr_svR",
        "outputId": "16a0acb5-461f-4e4f-c199-0283965f1350"
      },
      "execution_count": null,
      "outputs": [
        {
          "output_type": "stream",
          "name": "stdout",
          "text": [
            "hello good morning\n",
            "this is your module 2\n",
            "please practice the session\n"
          ]
        }
      ]
    },
    {
      "cell_type": "markdown",
      "source": [
        "**paramters**\n",
        "\n",
        "\n",
        "**Arguments**"
      ],
      "metadata": {
        "id": "6LjTFdK_A-dX"
      }
    },
    {
      "cell_type": "code",
      "source": [
        "#what is parameter?\n",
        "#creating a variable when you are defing a function is known as parameter\n",
        "def details(Name,Age,Gender,Education):\n",
        "  print(f'hello this is {Name}, and i am {Age} years old, my gender is {Gender}, and i have done bachelors in {Education}')       #formatting string method\n",
        "details(\"vaishnavi\",21,\"female\",\"srm\")\n",
        "#what is arguments?\n",
        "#calling the function with certain values is known as arguments.\n",
        "#note---> when you have given specific number of parameters while calling function equal number of arguments .\n"
      ],
      "metadata": {
        "colab": {
          "base_uri": "https://localhost:8080/"
        },
        "id": "7a_e_RsuA9w3",
        "outputId": "c5ae3387-d273-4333-ab14-6e04ad8b9df7"
      },
      "execution_count": null,
      "outputs": [
        {
          "output_type": "stream",
          "name": "stdout",
          "text": [
            "hello this is vaishnavi, and i am 21 years old, my gender is female, and i have done bachelors in srm\n"
          ]
        }
      ]
    },
    {
      "cell_type": "code",
      "source": [
        "#what do i do when i don't know how many parameters i pass?\n",
        "def details(**name):\n",
        "  for x,y in name.items():\n",
        "    print(f\"{x}={y}\")\n",
        "#call function\n",
        "details(Name = \"python\",last_name=\"programming\", Age=25, mobile = 9864225689)"
      ],
      "metadata": {
        "id": "jaT-cDtRABgb",
        "colab": {
          "base_uri": "https://localhost:8080/"
        },
        "outputId": "7028849d-eea2-4697-bf9c-3f26dc2aa0ca"
      },
      "execution_count": null,
      "outputs": [
        {
          "output_type": "stream",
          "name": "stdout",
          "text": [
            "Name=python\n",
            "last_name=programming\n",
            "Age=25\n",
            "mobile=9864225689\n"
          ]
        }
      ]
    },
    {
      "cell_type": "code",
      "source": [
        "def details(**name):\n",
        "  print(name)\n",
        "#call function                   #default dtype is dictionary\n",
        "details(Name = \"python\",last_name=\"programming\", Age=25, mobile = 9864225689)"
      ],
      "metadata": {
        "id": "6ytiSwCCEmdH",
        "colab": {
          "base_uri": "https://localhost:8080/"
        },
        "outputId": "9180221c-e154-4f55-e564-f0a1d1ed16f5"
      },
      "execution_count": null,
      "outputs": [
        {
          "output_type": "stream",
          "name": "stdout",
          "text": [
            "{'Name': 'python', 'last_name': 'programming', 'Age': 25, 'mobile': 9864225689}\n"
          ]
        }
      ]
    },
    {
      "cell_type": "code",
      "source": [
        "#when you don't know how many arguments has to pass?\n",
        "def f4(n1,n2,n3,n4):\n",
        "  print(f'hello {n3}')\n",
        "f4(\"python\",\"c\",\"c++\",\"java\")"
      ],
      "metadata": {
        "colab": {
          "base_uri": "https://localhost:8080/"
        },
        "id": "0i8g0L3WFi1Q",
        "outputId": "1762a9ef-30a1-4c9e-de6c-7b0b00864055"
      },
      "execution_count": null,
      "outputs": [
        {
          "output_type": "stream",
          "name": "stdout",
          "text": [
            "hello c++\n"
          ]
        }
      ]
    },
    {
      "cell_type": "code",
      "source": [
        "def f5(*name):\n",
        "  print(name)\n",
        "f5('py','js','j','react')"
      ],
      "metadata": {
        "colab": {
          "base_uri": "https://localhost:8080/"
        },
        "id": "OAW1P3wRG050",
        "outputId": "eec44019-1e32-43cc-8ead-65ca205c3b28"
      },
      "execution_count": null,
      "outputs": [
        {
          "output_type": "stream",
          "name": "stdout",
          "text": [
            "('py', 'js', 'j', 'react')\n"
          ]
        }
      ]
    },
    {
      "cell_type": "code",
      "source": [
        "def f5(*name):\n",
        "  for x in name:\n",
        "    print(f'hello {x}')\n",
        "f5('py','js','j','react')"
      ],
      "metadata": {
        "colab": {
          "base_uri": "https://localhost:8080/"
        },
        "id": "_DsL99rVGb3N",
        "outputId": "40725968-76b1-4aa2-ffc1-e105e8f9f0f1"
      },
      "execution_count": null,
      "outputs": [
        {
          "output_type": "stream",
          "name": "stdout",
          "text": [
            "hello py\n",
            "hello js\n",
            "hello j\n",
            "hello react\n"
          ]
        }
      ]
    },
    {
      "cell_type": "code",
      "source": [
        "'''  **----> when you don't know how many parameters has to pass----> arbitrary keyword arguments(kwarugs)\n",
        "and the default data types for the kwargs is \"dictionary\".\n",
        "2.  *----> when we don't know how many arguments we have to pass\n",
        "    *---->Arugs---> Arbitrary arguments\n",
        "    default data types for arugs are tuple.\n"
      ],
      "metadata": {
        "id": "MmqMlQ96HVZ_"
      },
      "execution_count": null,
      "outputs": []
    },
    {
      "cell_type": "code",
      "source": [
        "x = 5\n",
        "def modify():\n",
        "    global x\n",
        "    x = 10\n",
        "modify()\n",
        "print(x)"
      ],
      "metadata": {
        "colab": {
          "base_uri": "https://localhost:8080/"
        },
        "id": "wtIRdzPnLC0e",
        "outputId": "2e6a7b48-104b-4c0c-9b4a-f6cce30097a8"
      },
      "execution_count": null,
      "outputs": [
        {
          "output_type": "stream",
          "name": "stdout",
          "text": [
            "10\n"
          ]
        }
      ]
    },
    {
      "cell_type": "code",
      "source": [
        "def foo():\n",
        "    return total + 1\n",
        "total = 0\n",
        "print(foo())"
      ],
      "metadata": {
        "id": "G3KkOCBALJZ8",
        "colab": {
          "base_uri": "https://localhost:8080/"
        },
        "outputId": "d67a75a9-ed3e-438b-e4f7-5434662f906b"
      },
      "execution_count": null,
      "outputs": [
        {
          "output_type": "stream",
          "name": "stdout",
          "text": [
            "1\n"
          ]
        }
      ]
    },
    {
      "cell_type": "code",
      "source": [
        "target = 5\n",
        "intial = 0\n",
        "while intial > target:\n",
        "  print(\"go up\")\n",
        "  print(\"go down\")\n",
        "  print(\"===========completed==========\")\n",
        "intial = intial + 1"
      ],
      "metadata": {
        "id": "Y_th-wQkWRPT"
      },
      "execution_count": null,
      "outputs": []
    },
    {
      "cell_type": "code",
      "source": [
        "a=\"sri\"\n",
        "b=\"latha\"\n",
        "s=(a+b)\n",
        "print('la'in b)\n"
      ],
      "metadata": {
        "colab": {
          "base_uri": "https://localhost:8080/"
        },
        "id": "_UBVArREZXq3",
        "outputId": "afbf275c-7eec-41ad-b349-26d4b341ad5a"
      },
      "execution_count": null,
      "outputs": [
        {
          "output_type": "stream",
          "name": "stdout",
          "text": [
            "True\n"
          ]
        }
      ]
    },
    {
      "cell_type": "code",
      "source": [
        "def mult(list):\n",
        "  y=2\n",
        "  for x in list:\n",
        "     y *= x\n",
        "  return y\n",
        "print(mult((2,4,1)))\n"
      ],
      "metadata": {
        "id": "xiRS8z0laefW",
        "colab": {
          "base_uri": "https://localhost:8080/"
        },
        "outputId": "565f4572-f1d1-4870-c93b-abbb27112bc9"
      },
      "execution_count": null,
      "outputs": [
        {
          "output_type": "stream",
          "name": "stdout",
          "text": [
            "16\n"
          ]
        }
      ]
    },
    {
      "cell_type": "code",
      "source": [
        "m=[x for x in range(1,1000) if \"2\" in str(x)]      #print all '2' from 10000\n",
        "print(m)"
      ],
      "metadata": {
        "colab": {
          "base_uri": "https://localhost:8080/"
        },
        "id": "OClrb04Jm-4c",
        "outputId": "dd6fa35d-eebb-47c1-be95-12685c35fab5"
      },
      "execution_count": null,
      "outputs": [
        {
          "output_type": "stream",
          "name": "stdout",
          "text": [
            "[2, 12, 20, 21, 22, 23, 24, 25, 26, 27, 28, 29, 32, 42, 52, 62, 72, 82, 92, 102, 112, 120, 121, 122, 123, 124, 125, 126, 127, 128, 129, 132, 142, 152, 162, 172, 182, 192, 200, 201, 202, 203, 204, 205, 206, 207, 208, 209, 210, 211, 212, 213, 214, 215, 216, 217, 218, 219, 220, 221, 222, 223, 224, 225, 226, 227, 228, 229, 230, 231, 232, 233, 234, 235, 236, 237, 238, 239, 240, 241, 242, 243, 244, 245, 246, 247, 248, 249, 250, 251, 252, 253, 254, 255, 256, 257, 258, 259, 260, 261, 262, 263, 264, 265, 266, 267, 268, 269, 270, 271, 272, 273, 274, 275, 276, 277, 278, 279, 280, 281, 282, 283, 284, 285, 286, 287, 288, 289, 290, 291, 292, 293, 294, 295, 296, 297, 298, 299, 302, 312, 320, 321, 322, 323, 324, 325, 326, 327, 328, 329, 332, 342, 352, 362, 372, 382, 392, 402, 412, 420, 421, 422, 423, 424, 425, 426, 427, 428, 429, 432, 442, 452, 462, 472, 482, 492, 502, 512, 520, 521, 522, 523, 524, 525, 526, 527, 528, 529, 532, 542, 552, 562, 572, 582, 592, 602, 612, 620, 621, 622, 623, 624, 625, 626, 627, 628, 629, 632, 642, 652, 662, 672, 682, 692, 702, 712, 720, 721, 722, 723, 724, 725, 726, 727, 728, 729, 732, 742, 752, 762, 772, 782, 792, 802, 812, 820, 821, 822, 823, 824, 825, 826, 827, 828, 829, 832, 842, 852, 862, 872, 882, 892, 902, 912, 920, 921, 922, 923, 924, 925, 926, 927, 928, 929, 932, 942, 952, 962, 972, 982, 992]\n"
          ]
        }
      ]
    },
    {
      "cell_type": "code",
      "source": [
        "n=[5,1,3,5,9,2,26]\n",
        "m=[x for x in n if x%2 ==0]\n",
        "print(m)"
      ],
      "metadata": {
        "colab": {
          "base_uri": "https://localhost:8080/"
        },
        "id": "8g9byGVjo1Oo",
        "outputId": "5fd2220c-6735-4020-a609-41aec95c9a11"
      },
      "execution_count": null,
      "outputs": [
        {
          "output_type": "stream",
          "name": "stdout",
          "text": [
            "[2, 26]\n"
          ]
        }
      ]
    },
    {
      "cell_type": "code",
      "source": [
        "n=[5,1,3,5,9,2,26]\n",
        "for x in n:\n",
        "  if x%2==0:\n",
        "    print(x,end=\" \")\n",
        "\n",
        "\n"
      ],
      "metadata": {
        "colab": {
          "base_uri": "https://localhost:8080/"
        },
        "id": "WeGmAg4LppF0",
        "outputId": "9992ca3b-0d45-4b8b-db10-4cff39df1832"
      },
      "execution_count": null,
      "outputs": [
        {
          "output_type": "stream",
          "name": "stdout",
          "text": [
            "2 26 "
          ]
        }
      ]
    },
    {
      "cell_type": "code",
      "source": [],
      "metadata": {
        "id": "5Zl214PZqWHb"
      },
      "execution_count": null,
      "outputs": []
    }
  ]
}